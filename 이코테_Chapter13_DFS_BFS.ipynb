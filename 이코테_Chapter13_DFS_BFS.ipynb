{
  "nbformat": 4,
  "nbformat_minor": 0,
  "metadata": {
    "colab": {
      "name": "이코테_Chapter13_DFS/BFS.ipynb",
      "provenance": [],
      "collapsed_sections": [],
      "authorship_tag": "ABX9TyMnf8eKFFGDuJ5YS4JjC2lF",
      "include_colab_link": true
    },
    "kernelspec": {
      "name": "python3",
      "display_name": "Python 3"
    },
    "language_info": {
      "name": "python"
    }
  },
  "cells": [
    {
      "cell_type": "markdown",
      "metadata": {
        "id": "view-in-github",
        "colab_type": "text"
      },
      "source": [
        "<a href=\"https://colab.research.google.com/github/dongil618/CodingTest/blob/main/%EC%9D%B4%EC%BD%94%ED%85%8C_Chapter13_DFS_BFS.ipynb\" target=\"_parent\"><img src=\"https://colab.research.google.com/assets/colab-badge.svg\" alt=\"Open In Colab\"/></a>"
      ]
    },
    {
      "cell_type": "markdown",
      "source": [
        "# [Q 015] 특정 거리의 도시 찾기\n",
        "이탤릭체 텍스트\n",
        "**난이도** ⚫⚫⚪ | **풀이시간** 30분 | **시간제한** 2초 | **메모리 제한** 256MB | **기출** 핵심유형\n",
        "\n",
        "\n",
        "- 1~N번까지의 도시와 M개의 단방향 도로 존재\n",
        "\n",
        "- 모든 도로의 거리 1\n",
        "\n",
        "- 이때 특정한 도시 X로부터 출발해 도달할 수 있는 모든 도시 중에서, 최단 거리가 정확히 K인 모든 도시의 번호를 출력하는 프로그램 작성\n",
        "\n",
        "- 또한 출발 도시 X에서 출발 도시 X로 가는 최단 거리는 항상 0이라고 가정\n",
        "\n",
        "- ex) N = 4, K = 2, X = 1일 때 다음과 같이 그래프가 구성되어 있음. 이때 1번 도시에서 출발해 도달할 수 있는 도시중에서, 최단 거리가 2인 도시는 4번 도시 뿐. 2번과 3번 도시의 경우 최단거리가 1이기 때문에 출력하지 않음.\n",
        "\n",
        "\n",
        "**입력조건**\n",
        "- 첫 번째 줄에 도시의 개수 N, 도로의 개수 M, 거리정보 K, 출발 도시의 번호 X가 주어짐 (${ 2 <= N <= 300,000, 1 <= M <= 1,000,000, 1 <= K <= 300,000, 1 <= X <= N}$)\n",
        "\n",
        "- 둘째 줄부터 M개의 줄에 걸쳐서 두 개의 자연수 A,B가 주어지며, 각 자연수는 공백으로 구분. 이는 A번 도시에서 B번 도시로 이동하는 단방향 도로가 존재한다는 의미. (${ 1 <= A,B <= N}$) 단, A와 B는 서로 다른 자연수.\n",
        "\n",
        "**출력조건**\n",
        "- X로부터 출발해 도달할 수 있는 도시 중에서, 최단 거리가 K인 모든 도시의 번호를 한 줄에 하나씩 오름차순으로 출력.\n",
        "\n",
        "- 이때 도달할 수 있는 도시 중에서, 최단 거리가 K인 도시가 하나도 존재하지 않으면 -1 출력.\n"
      ],
      "metadata": {
        "id": "JloX1vUP8IxC"
      }
    },
    {
      "cell_type": "code",
      "source": [
        "def dfs(graph, v, visited):\n",
        "  # 현재 노드 방문처리\n",
        "  visited[v] = True\n",
        "  if v == k:\n",
        "    result.append(v)\n",
        "  # 현재 노드와 연결된 다른 노드 중에서 방문하지 않은 곳을 재귀적으로 방문\n",
        "  for i in graph[v]:\n",
        "    if not visited[i]:  # 처음에 if visited[v] == \"False\": 이렇게 했는데 visited 안에 스트링 값이 들어있는게 아니기 때문에 수정\n",
        "      dfs(graph, i, visited)\n",
        "\n",
        "\n",
        "# 도시의 개수 N, 도로의 개수 M, 거리정보 K, 출발 도시의 번호 X 입력\n",
        "n, m, k, x = map(int, input().split())\n",
        "\n",
        "print(f\"n : {n}, m : {m}, k : {k}, x : {x}\")\n",
        "\n",
        "# graph 입력\n",
        "graph = [[] for _ in range(n + 1)]\n",
        "for _ in range(m):\n",
        "  a, b = map(int, input().split())\n",
        "  graph[a].append(b)\n",
        "\n",
        "print(graph)\n",
        "\n",
        "visited = [False] * (n+1)\n",
        "\n",
        "result = []\n",
        "\n",
        "dfs(graph, x, visited)\n",
        "\n",
        "print(result)"
      ],
      "metadata": {
        "colab": {
          "base_uri": "https://localhost:8080/"
        },
        "id": "mCBpG18JOvlD",
        "outputId": "8b491968-7a75-4960-884e-5eaad2ec87b1"
      },
      "execution_count": null,
      "outputs": [
        {
          "output_type": "stream",
          "name": "stdout",
          "text": [
            "4 4 2 1\n",
            "n : 4, m : 4, k : 2, x : 1\n",
            "1 2\n",
            "1 3\n",
            "2 3\n",
            "2 4\n",
            "[[], [2, 3], [3, 4], [], []]\n",
            "[2]\n"
          ]
        }
      ]
    },
    {
      "cell_type": "code",
      "source": [
        "# 정답코드\n",
        "\n",
        "from collections import deque\n",
        "\n",
        "# 도시의 개수, 도로의 개수, 거리 정보, 출발 도시 번호\n",
        "n, m, k, x = map(int, input().split())\n",
        "graph = [[] for _ in range(n + 1)]\n",
        "\n",
        "# 모든 도로 정보 입력 받기\n",
        "for _ in range(m):\n",
        "    a, b = map(int, input().split())\n",
        "    graph[a].append(b)\n",
        "\n",
        "print(f\"graph : {graph}\")\n",
        "\n",
        "# 모든 도시에 대한 최단 거리 초기화\n",
        "distance = [-1] * (n + 1)\n",
        "distance[x] = 0 # 출발 도시까지의 거리는 0으로 설정\n",
        "\n",
        "print(f\"distance : {distance}\")\n",
        "\n",
        "# 너비 우선 탐색(BFS) 수행\n",
        "q = deque([x])\n",
        "print(f\"q : {q}\")\n",
        "while q:\n",
        "    now = q.popleft()\n",
        "    print(f\"now : {now}\")\n",
        "    # 현재 도시에서 이동할 수 있는 모든 도시를 확인\n",
        "    for next_node in graph[now]:\n",
        "        # 아직 방문하지 않은 도시라면\n",
        "        if distance[next_node] == -1:\n",
        "            # 최단 거리 갱신\n",
        "            distance[next_node] = distance[now] + 1\n",
        "            q.append(next_node)\n",
        "            print(f\"distance : {distance}\")\n",
        "            print(f\"q : {q}\")\n",
        "        print(\"----------------\")\n",
        "\n",
        "# 최단 거리가 K인 모든 도시의 번호를 오름차순으로 출력\n",
        "check = False\n",
        "for i in range(1, n + 1):\n",
        "    if distance[i] == k:\n",
        "        print(i)\n",
        "        check = True\n",
        "\n",
        "# 만약 최단 거리가 K인 도시가 없다면, -1 출력\n",
        "if check == False:\n",
        "    print(-1)"
      ],
      "metadata": {
        "colab": {
          "base_uri": "https://localhost:8080/"
        },
        "id": "3Bp7RTmlae6z",
        "outputId": "09ff105c-4ed4-4fcf-d3cd-f3812597a79b"
      },
      "execution_count": null,
      "outputs": [
        {
          "output_type": "stream",
          "name": "stdout",
          "text": [
            "4 4 2 1\n",
            "1 2\n",
            "1 3\n",
            "2 3\n",
            "2 4\n",
            "graph : [[], [2, 3], [3, 4], [], []]\n",
            "distance : [-1, 0, -1, -1, -1]\n",
            "q : deque([1])\n",
            "now : 1\n",
            "distance : [-1, 0, 1, -1, -1]\n",
            "q : deque([2])\n",
            "----------------\n",
            "distance : [-1, 0, 1, 1, -1]\n",
            "q : deque([2, 3])\n",
            "----------------\n",
            "now : 2\n",
            "----------------\n",
            "distance : [-1, 0, 1, 1, 2]\n",
            "q : deque([3, 4])\n",
            "----------------\n",
            "now : 3\n",
            "now : 4\n",
            "4\n"
          ]
        }
      ]
    },
    {
      "cell_type": "markdown",
      "source": [
        "## 정답과 비교 및 개선\n",
        "\n",
        "- 기존에 visited변수를 대신해 distance변수를 사용함. 그리고 이를 두 가지 역할을 가지도록 함. -1로 모두 초기화함으로써 방문여부를 확인하고, 출발점을 0으로 초기화함으로써 출발점 기준으로 +1을 함으로써 최단거리를 갱신하는 역할을 함.\n",
        "\n",
        "- graph입력받을 때 실수함. "
      ],
      "metadata": {
        "id": "LEHYOhVueJg8"
      }
    },
    {
      "cell_type": "markdown",
      "source": [
        "# [Q 16] 연구소\n",
        "**난이도** ⚫⚫⚪ | **풀이시간** 40분 | **시간제한** 2초 | **메모리 제한** 512MB | **기출** 삼성전자 SW 역량테스트\n",
        "\n",
        "\n",
        "- 바이러스 유출, 바이러스 확산 막기위해 연구소 벽 세울 계획\n",
        "\n",
        "- 연구소 크기 N X M의 직사각형, 1 X 1 정사각형으로 이루어짐.\n",
        "\n",
        "- 연구소는 빈칸, 벽으로 이루어져 있음.\n",
        "\n",
        "- 벽은 칸 하나를 가득 차지\n",
        "\n",
        "- 일부 칸은 바이러스가 존재, 이 바이러스는 상하좌우로 인접한 빈칸으로 모두 퍼져나갈 수 있음.\n",
        "\n",
        "- 새로 세울 수 있는 벽의 개수는 3개이며, 꼭 3개를 세워야함.\n",
        "\n",
        "- ex) 다음과 같이 연구소가 생긴경우\n",
        "\n",
        "2 0 0 0 1 1 0\n",
        "\n",
        "0 0 1 0 1 2 0\n",
        "\n",
        "0 1 1 0 1 0 0\n",
        "\n",
        "0 1 0 0 0 0 0 \n",
        "\n",
        "0 0 0 0 0 1 1\n",
        "\n",
        "0 1 0 0 0 0 0\n",
        "\n",
        "0 1 0 0 0 0 0\n",
        "\n",
        "이때 0은 빈칸, 1은 벽, 2는 바이러스가 있는 곳. 아무런 벽을 세우지 않는다면, 바이러스는 모든 빈칸으로 퍼져나갈 수 있음. 2행 1열, 1행 2열, 4행 6열에 벽을 세운다면 지도 모양은 다음과 같아짐\n",
        "\n",
        "2 1 0 0 1 1 0\n",
        "\n",
        "1 0 1 0 1 2 0\n",
        "\n",
        "0 1 1 0 1 0 0\n",
        "\n",
        "0 1 0 0 0 1 0 \n",
        "\n",
        "0 0 0 0 0 1 1\n",
        "\n",
        "0 1 0 0 0 0 0\n",
        "\n",
        "0 1 0 0 0 0 0\n",
        "\n",
        "바이러스가 퍼진 뒤의 모습\n",
        "\n",
        "2 1 0 0 1 1 2\n",
        "\n",
        "1 0 1 0 1 2 2\n",
        "\n",
        "0 1 1 0 1 2 2\n",
        "\n",
        "0 1 0 0 0 1 2 \n",
        "\n",
        "0 0 0 0 0 1 1\n",
        "\n",
        "0 1 0 0 0 0 0\n",
        "\n",
        "0 1 0 0 0 0 0\n",
        "\n",
        "벽을 3개 세운 뒤, 바이러스가 퍼질 수 없는 곳을 안전영역이라고 할 떄 위의 지도에서 안전 영역의 크기는 27\n",
        "\n",
        "연구소의 지도가 주어졌을 때 얻을 수 있는 안전 영역 크기의 최댓값을 구하는 프로그램 작성\n",
        "\n",
        "**입력조건**\n",
        "- 첫 번째 줄에 지도의 세로 크기 N과 가로크기 M이 주어짐 (${ 3 <= N,M <= 8}$)\n",
        "\n",
        "- 둘째 줄부터 N개의 줄에 지도의 모양이 주어짐. 0은 빈칸, 1은 벽, 2는 바이러스가 있는 위치. 2의 개수는 2보다 크거나 같고, 10보다 작거나 같은 자연수.\n",
        "\n",
        "- 빈칸의 개수는 3개 이상\n",
        "\n",
        "**출력조건**\n",
        "- 첫째 줄에 얻을 수 있는 안전 영역의 최대 크기를 출력\n"
      ],
      "metadata": {
        "id": "0hvAjrWuuzAI"
      }
    },
    {
      "cell_type": "code",
      "source": [
        "# 핵심 IDEA : 벽을 세우는 기준?! \n",
        "\n",
        "# 문자열 S입력\n",
        "s = list(input())\n",
        "s.sort()\n",
        "print(s)\n",
        "\n",
        "# 숫자인지 비교를 위한 리스트\n",
        "number = [\"1\", \"2\", \"3\", \"4\", \"5\", \"6\", \"7\", \"8\", \"9\",]\n",
        "\n",
        "# 숫자로 판별된 리스트를 정수화 시켜서 담을 리스트\n",
        "n_array = []\n",
        "\n",
        "# 뒷 부분에 s_array부분을 위해\n",
        "s_start = 0\n",
        "for i in s:\n",
        "  if i in number:\n",
        "    n_array.append(int(i))\n",
        "    s_start += 1\n",
        "  # 정렬 후에 for문을 돌리는 것이라서 문자가 나오자 마자 for문 종료\n",
        "  else:\n",
        "    break\n",
        "\n",
        "#print(s_start)\n",
        "s_array = s[s_start:]\n",
        "\n",
        "#print(n_array)\n",
        "#print(s_array)\n",
        "\n",
        "result = \"\".join(s_array) + str(sum(n_array))\n",
        "\n",
        "print(result)\n"
      ],
      "metadata": {
        "id": "yV640V0UuzAe",
        "colab": {
          "base_uri": "https://localhost:8080/"
        },
        "outputId": "b9d6710f-5735-4098-98f5-954ba457fde5"
      },
      "execution_count": null,
      "outputs": [
        {
          "output_type": "stream",
          "name": "stdout",
          "text": [
            "K1KA5CB7\n",
            "['1', '5', '7', 'A', 'B', 'C', 'K', 'K']\n",
            "ABCKK13\n"
          ]
        }
      ]
    },
    {
      "cell_type": "code",
      "source": [
        "# 정답코드\n",
        "\n",
        "data = input()\n",
        "result = []\n",
        "value = 0\n",
        "\n",
        "# 문자를 하나씩 확인하며\n",
        "for x in data:\n",
        "    # 알파벳인 경우 결과 리스트에 삽입\n",
        "    if x.isalpha():\n",
        "        result.append(x)\n",
        "    # 숫자는 따로 더하기\n",
        "    else:\n",
        "        value += int(x)\n",
        "\n",
        "# 알파벳을 오름차순으로 정렬\n",
        "result.sort()\n",
        "\n",
        "# 숫자가 하나라도 존재하는 경우 가장 뒤에 삽입\n",
        "if value != 0:\n",
        "    result.append(str(value))\n",
        "\n",
        "# 최종 결과 출력(리스트를 문자열로 변환하여 출력)\n",
        "print(''.join(result))"
      ],
      "metadata": {
        "id": "kiYNeJViuzAi"
      },
      "execution_count": null,
      "outputs": []
    },
    {
      "cell_type": "markdown",
      "source": [
        "## 정답과 비교 및 개선\n",
        "\n",
        "- 정답코드는 isalpha()라는 함수를 사용해 알파벳인 경우 리스트에 따로 담고 나머지 숫자는 따로 int()함수로 정수로 만들어 더한후 알파벳 리스트만 오름차순 정렬 후 숫자가 하나라도 존재하는 경우 가장 뒤에 숫자를 삽입하는 형식으로 결과를 도출\n",
        "\n",
        "- 반면 나는 해당 함수를 몰랐기 때문에 1-9를 닮은 숫자 리스트로 in함수를 사용해 숫자와 문자를 분리. 그 후에 각각 처리해서 결과값을 도출함."
      ],
      "metadata": {
        "id": "bB1dWi-YuzAj"
      }
    },
    {
      "cell_type": "markdown",
      "source": [
        "# [Q 09] 문자열 압축\n",
        "**난이도** ⚫⚫⚪ | **풀이시간** 30분 | **시간제한** 1초 | **메모리 제한** 128MB | **기출** 2020 카카오 신입 공채\n",
        "\n",
        "\n",
        "- https://programmers.co.kr/learn/courses/30/lessons/60057 에서 풀기\n",
        "\n"
      ],
      "metadata": {
        "id": "mvKgSyy18z9n"
      }
    },
    {
      "cell_type": "code",
      "source": [
        "# 정답코드\n",
        "\n",
        "data = input()\n",
        "count0 = 0 # 전부 0으로 바꾸는 경우\n",
        "count1 = 0 # 전부 1로 바꾸는 경우\n",
        "\n",
        "# 첫 번째 원소에 대해서 처리\n",
        "if data[0] == '1':\n",
        "    count0 += 1\n",
        "else:\n",
        "    count1 += 1\n",
        "\n",
        "# 두 번째 원소부터 모든 원소를 확인하며\n",
        "for i in range(len(data) - 1):\n",
        "    if data[i] != data[i + 1]:\n",
        "        # 다음 수에서 1로 바뀌는 경우\n",
        "        if data[i + 1] == '1':\n",
        "            count0 += 1\n",
        "        # 다음 수에서 0으로 바뀌는 경우\n",
        "        else:\n",
        "            count1 += 1\n",
        "\n",
        "print(min(count0, count1))"
      ],
      "metadata": {
        "colab": {
          "base_uri": "https://localhost:8080/"
        },
        "outputId": "32c57055-a7d7-4065-e6d3-45d922c8c9fb",
        "id": "SrUuqQsq8z9v"
      },
      "execution_count": null,
      "outputs": [
        {
          "output_type": "stream",
          "name": "stdout",
          "text": [
            "0010100101110001110100010111\n",
            "8\n"
          ]
        }
      ]
    },
    {
      "cell_type": "markdown",
      "source": [
        "## 정답과 비교 및 개선\n",
        "\n",
        "- 문제풀이 접근은 어느정도 했지만 문제를 풀지 못함\n"
      ],
      "metadata": {
        "id": "u5G0jg8U8z9w"
      }
    },
    {
      "cell_type": "markdown",
      "source": [
        "# [Q 10] 자물쇠와 열쇠\n",
        "**난이도** ⚫⚫⚪ | **풀이시간** 40분 | **시간제한** 1초 | **메모리 제한** 128MB | **기출** 2020 카카오 신입 공채\n",
        "\n",
        "\n",
        "- https://programmers.co.kr/learn/courses/30/lessons/60059"
      ],
      "metadata": {
        "id": "OSOZaYFCCYhm"
      }
    },
    {
      "cell_type": "code",
      "source": [
        "# 정답코드\n",
        "\n",
        "# 2차원 리스트 90도 회전하기\n",
        "def rotate_a_matrix_by_90_degree(a):\n",
        "    n = len(a) # 행 길이 계산\n",
        "    m = len(a[0]) # 열 길이 계산\n",
        "    result = [[0] * n for _ in range(m)] # 결과 리스트\n",
        "    for i in range(n):\n",
        "        for j in range(m):\n",
        "            result[j][n - i - 1] = a[i][j]\n",
        "    return result\n",
        "\n",
        "# 자물쇠의 중간 부분이 모두 1인지 확인\n",
        "def check(new_lock):\n",
        "    lock_length = len(new_lock) // 3\n",
        "    for i in range(lock_length, lock_length * 2):\n",
        "        for j in range(lock_length, lock_length * 2):\n",
        "            if new_lock[i][j] != 1:\n",
        "                return False\n",
        "    return True\n",
        "\n",
        "def solution(key, lock):\n",
        "    n = len(lock)\n",
        "    m = len(key)\n",
        "    # 자물쇠의 크기를 기존의 3배로 변환\n",
        "    new_lock = [[0] * (n * 3) for _ in range(n * 3)]\n",
        "    # 새로운 자물쇠의 중앙 부분에 기존의 자물쇠 넣기\n",
        "    for i in range(n):\n",
        "        for j in range(n):\n",
        "            new_lock[i + n][j + n] = lock[i][j]\n",
        "\n",
        "    # 4가지 방향에 대해서 확인\n",
        "    for rotation in range(4):\n",
        "        key = rotate_a_matrix_by_90_degree(key) # 열쇠 회전\n",
        "        for x in range(n * 2):\n",
        "            for y in range(n * 2):\n",
        "                # 자물쇠에 열쇠를 끼워 넣기\n",
        "                for i in range(m):\n",
        "                    for j in range(m):\n",
        "                        new_lock[x + i][y + j] += key[i][j]\n",
        "                # 새로운 자물쇠에 열쇠가 정확히 들어 맞는지 검사\n",
        "                if check(new_lock) == True:\n",
        "                    return True\n",
        "                # 자물쇠에서 열쇠를 다시 빼기\n",
        "                for i in range(m):\n",
        "                    for j in range(m):\n",
        "                        new_lock[x + i][y + j] -= key[i][j]\n",
        "    return False"
      ],
      "metadata": {
        "colab": {
          "base_uri": "https://localhost:8080/"
        },
        "outputId": "ed7cd483-350d-40ec-df0a-654f78437d81",
        "id": "HBxP9hrvCYiE"
      },
      "execution_count": null,
      "outputs": [
        {
          "output_type": "stream",
          "name": "stdout",
          "text": [
            "5\n",
            "3 2 1 1 9\n",
            "8\n"
          ]
        }
      ]
    },
    {
      "cell_type": "markdown",
      "source": [
        "## 정답과 비교 및 개선\n",
        "\n",
        "- 문제풀이 접근 자체가 잘못됐음. 처음에 소수 알고리즘을 통해 구하는것으로 접근했고 이후에는 리스트 내의 가장 큰 수까지 반복문을 돌리면서 만들수있는 화폐를 비교하려고 했는데 만들수있는 화폐를 어떻게 다 구하는 것인가에서 막혔음.\n",
        "\n",
        "- 정답코드를 보니 정렬과 target에 1을 초기화하고 target에 정렬된 리스트 내부의 요소를 하나씩 더해주는 것이 핵심인 것 같음. 이 핵심 아이디어를 떠올리는 것이 참 어려움."
      ],
      "metadata": {
        "id": "-4RulyKnCYiE"
      }
    },
    {
      "cell_type": "markdown",
      "source": [
        "# [Q 11] 뱀\n",
        "**난이도** ⚫⚫⚪ | **풀이시간** 40분 | **시간제한** 1초 | **메모리 제한** 128MB | **기출** 삼성전자 SW 역량 테스트\n",
        "\n",
        "\n",
        "- N X N 정사각 보드에서 게임 진행, 몇몇 칸에는 사과가 놓여져 있음.\n",
        "\n",
        "- 보드의 상하좌우 끝에는 벽이 있음.\n",
        "\n",
        "- 게임을 시작할 때 뱀의 맨 위 맨 좌측에 위치하고 뱀의 길이는 1\n",
        "\n",
        "- 뱀은 처음에 오른쪽으로 향함.\n",
        "\n",
        "- 뱀은 매 초마다 이동을 하는데 다음과 같은 규칙을 따름\n",
        "  1. 먼저 뱀은 몸길이를 늘려 머리를 다음칸에 위치시킴.\n",
        "  2. 만약 이동한 칸에 사과가 있다면, 그 칸에 있던 사과가 없어지고 꼬리는 움직이지 않음.\n",
        "  3. 만약 이동한 칸에 사과가 없다면, 몸길이를 줄여서 꼬리가 위치한 칸을 비워줌. 즉, 몸 길이는 변하지 않음.\n",
        "\n",
        "- 사과의 위치와 뱀의 이동 경로가 주어질 때 이 게임이 몇 초에 끝나는지 계산.\n",
        "\n",
        "**입력조건**\n",
        "- 첫째 줄에 보드의 크기 N이 주어짐. (${2<= N <= 100}$) 다음 줄에 사과의 개수 K가 주어짐. (${2<= K <= 100}$)\n",
        "\n",
        "- 다음 K개의 줄에는 사과의 위치가 주어지는데, 첫 번째 정수는 행, 두 번째 정수는 열 위치를 의미. 사과의 위치는 모두 다르며, 맨 위 맨 좌측(1행 1열)에는 사과가 없음.\n",
        "\n",
        "- 다음 줄에는 뱀의 방향 변환 횟수 L이 주어짐. (${1<= L <= 100}$)\n",
        "\n",
        "- 다음 L개의 줄에는 뱀의 방향 변환 정보가 주어지는데, 정수 X와 문자 C로 이루어져 있으며, 게임 시작시간으로부터 X초가 끝난 뒤에 왼쪽(C가 'L')또는 오른쪽(C가 'D')으로 90도 방향을 회전시킨다는 뜻. X는 10,000 이하의 양의 정수이며, 방향 전환 정보 X가 증가하는 순으로 주어짐.\n",
        "\n",
        "**출력조건**\n",
        "- 첫째 줄에 게임이 몇 초에 끝나는지 출력\n"
      ],
      "metadata": {
        "id": "4Vw1bUgoe5BQ"
      }
    },
    {
      "cell_type": "code",
      "source": [
        "# 핵심 IDEA : \n",
        "\n",
        "# N X N보드 크기 N 입력받기\n",
        "n = int(input())\n",
        "\n",
        "# 사과 개수 K 입력받기\n",
        "k = int(input())\n",
        "\n",
        "# 사과 위치 입력받기\n",
        "apple_positions = []\n",
        "\n",
        "for i in range(k):\n",
        "  x, y = map(int, input().split())\n",
        "  apple_positions.append((x,y))\n",
        "\n",
        "# 방향 변환 횟수 L 입력 받기\n",
        "l = int(input())\n",
        "\n",
        "# 방향 변환 정보 입력받기\n",
        "trans_directions = []\n",
        "\n",
        "for j in range(l):\n",
        "  second, direction = input().split()\n",
        "  trans_directions.append((int(second),direction))\n",
        "\n",
        "print(f\"n : {n}, k : {k}, l : {l}\")\n",
        "print(f\"apple_positions : {apple_positions}\")\n",
        "print(f\"trans_directions : {trans_directions}\")\n",
        "\n",
        "\n",
        "body_length = []\n",
        "\n",
        "\n"
      ],
      "metadata": {
        "colab": {
          "base_uri": "https://localhost:8080/"
        },
        "outputId": "6d9e22b8-336f-4de3-8029-5c9463926609",
        "id": "GdVeMxu4e5BS"
      },
      "execution_count": null,
      "outputs": [
        {
          "output_type": "stream",
          "name": "stdout",
          "text": [
            "6\n",
            "3\n",
            "2 4\n",
            "2 5\n",
            "5 3\n",
            "3\n",
            "3 D\n",
            "15 L\n",
            "17 D\n",
            "n : 6, k : 3, l : 3\n",
            "apple_positions : [(2, 4), (2, 5), (5, 3)]\n",
            "trans_directions : [(3, 'D'), (15, 'L'), (17, 'D')]\n"
          ]
        }
      ]
    },
    {
      "cell_type": "code",
      "source": [
        "# 정답코드\n",
        "n = int(input())\n",
        "k = int(input())\n",
        "data = [[0] * (n + 1) for _ in range(n + 1)] # 맵 정보\n",
        "info = [] # 방향 회전 정보\n",
        "\n",
        "# 맵 정보(사과 있는 곳은 1로 표시)\n",
        "for _ in range(k):\n",
        "    a, b = map(int, input().split())\n",
        "    data[a][b] = 1\n",
        "\n",
        "# 방향 회전 정보 입력\n",
        "l = int(input())\n",
        "for _ in range(l):\n",
        "    x, c = input().split()\n",
        "    info.append((int(x), c))\n",
        "\n",
        "# 처음에는 오른쪽을 보고 있으므로(동, 남, 서, 북)\n",
        "dx = [0, 1, 0, -1]\n",
        "dy = [1, 0, -1, 0]\n",
        "\n",
        "def turn(direction, c):\n",
        "    if c == \"L\":\n",
        "        direction = (direction - 1) % 4\n",
        "    else:\n",
        "        direction = (direction + 1) % 4\n",
        "    return direction\n",
        "\n",
        "def simulate():\n",
        "    x, y = 1, 1 # 뱀의 머리 위치\n",
        "    data[x][y] = 2 # 뱀이 존재하는 위치는 2로 표시\n",
        "    direction = 0 # 처음에는 동쪽을 보고 있음\n",
        "    time = 0 # 시작한 뒤에 지난 '초' 시간\n",
        "    index = 0 # 다음에 회전할 정보\n",
        "    q = [(x, y)] # 뱀이 차지하고 있는 위치 정보(꼬리가 앞쪽)\n",
        "\n",
        "    while True:\n",
        "        nx = x + dx[direction]\n",
        "        ny = y + dy[direction]\n",
        "        # 맵 범위 안에 있고, 뱀의 몸통이 없는 위치라면\n",
        "        if 1 <= nx and nx <= n and 1 <= ny and ny <= n and data[nx][ny] != 2:\n",
        "            # 사과가 없다면 이동 후에 꼬리 제거\n",
        "            if data[nx][ny] == 0:\n",
        "                data[nx][ny] = 2\n",
        "                q.append((nx, ny))\n",
        "                px, py = q.pop(0)\n",
        "                data[px][py] = 0\n",
        "            # 사과가 있다면 이동 후에 꼬리 그대로 두기\n",
        "            if data[nx][ny] == 1:\n",
        "                data[nx][ny] = 2\n",
        "                q.append((nx, ny))\n",
        "        # 벽이나 뱀의 몸통과 부딪혔다면\n",
        "        else:\n",
        "            time += 1\n",
        "            break\n",
        "        x, y = nx, ny # 다음 위치로 머리를 이동\n",
        "        time += 1\n",
        "        if index < l and time == info[index][0]: # 회전할 시간인 경우 회전\n",
        "            direction = turn(direction, info[index][1])\n",
        "            index += 1\n",
        "    return time\n",
        "\n",
        "print(simulate())"
      ],
      "metadata": {
        "colab": {
          "base_uri": "https://localhost:8080/"
        },
        "outputId": "f5193199-1575-4b8d-aa11-aafcf48d8413",
        "id": "0Sx3sQcSe5BT"
      },
      "execution_count": null,
      "outputs": [
        {
          "output_type": "stream",
          "name": "stdout",
          "text": [
            "5 3\n",
            "1 3 2 3 2\n",
            "array[x] : 2\n",
            "i : 1, n : 4, array[1] : 1, result : 4\n",
            "i : 2, n : 2, array[2] : 2, result : 8\n",
            "i : 3, n : 0, array[3] : 2, result : 8\n",
            "8\n",
            "time : 1.3954639434814453\n"
          ]
        }
      ]
    },
    {
      "cell_type": "code",
      "source": [
        "q = [(1,2), (2,4), (5,3)]\n",
        "\n",
        "px, py = q.pop(0)\n",
        "\n",
        "print(f\"px : {px}, py : {py}\")"
      ],
      "metadata": {
        "colab": {
          "base_uri": "https://localhost:8080/"
        },
        "id": "gcPq80KzFRqK",
        "outputId": "b08033ec-71e7-4b78-f39a-529af5ecce7c"
      },
      "execution_count": null,
      "outputs": [
        {
          "output_type": "stream",
          "name": "stdout",
          "text": [
            "px : 1, py : 2\n"
          ]
        }
      ]
    },
    {
      "cell_type": "markdown",
      "source": [
        "## 정답과 비교 및 개선\n",
        "\n",
        "- 입력값은 제대로 코딩했음. 대신 여러 정보의 값을 받을 때 for문 사용할 때 i,j를 사용하기 보다는 _를 사용했으면 더욱 깔끔해졌을 것 같음.\n",
        "\n",
        "- 함수 turn 이 있어야한다고 생각했지만 구체적으로 어떻게 구현을 해야할지 감이 안잡혔음.\n",
        "\n",
        "- 내가 놓쳤던 것들\n",
        "  1. time 변수\n",
        "  2. 다음에 회전할 정보 index 변수\n",
        "  3. map 정보를 모두 0으로 초기화하고 사과가 있는 곳을 1로 초기화하는 것\n",
        "  4. 처음에 오른쪽으로 보고있어서 방향을 동,남,서,북으로 하는 것\n",
        "  5. 뱀이 존재하는 위치를 2로 초기화하는 것"
      ],
      "metadata": {
        "id": "5gD6Fsuse5BV"
      }
    },
    {
      "cell_type": "markdown",
      "source": [
        "# [Q 12] 기둥과 보 설치\n",
        "**난이도** ⚫⚫⚪ | **풀이시간** 50분 | **시간제한** 5초 | **메모리 제한** 128MB | **기출** 2020 카카오 신입 공채\n",
        "\n",
        "\n",
        "- https://programmers.co.kr/learn/courses/30/lessons/60061\n"
      ],
      "metadata": {
        "id": "-JtwinSU-hda"
      }
    },
    {
      "cell_type": "code",
      "source": [
        "# 정답코드\n",
        "\n",
        "# 현재 설치된 구조물이 '가능한' 구조물인지 확인하는 함수\n",
        "def possible(answer):\n",
        "    for x, y, stuff in answer:\n",
        "        if stuff == 0: # 설치된 것이 '기둥'인 경우\n",
        "            # '바닥 위' 혹은 '보의 한쪽 끝 부분 위' 혹은 '다른 기둥 위'라면 정상\n",
        "            if y == 0 or [x - 1, y, 1] in answer or [x, y, 1] in answer or [x, y - 1, 0] in answer:\n",
        "                continue\n",
        "            return False # 아니라면 거짓(False) 반환\n",
        "        elif stuff == 1: # 설치된 것이 '보'인 경우\n",
        "            # '한쪽 끝부분이 기둥 위' 혹은 '양쪽 끝부분이 다른 보와 동시에 연결'이라면 정상\n",
        "            if [x, y - 1, 0] in answer or [x + 1, y - 1, 0] in answer or ([x - 1, y, 1] in answer and [x + 1, y, 1] in answer):\n",
        "                continue\n",
        "            return False # 아니라면 거짓(False) 반환\n",
        "    return True\n",
        "\n",
        "def solution(n, build_frame):\n",
        "    answer = []\n",
        "    for frame in build_frame: # 작업(frame)의 개수는 최대 1,000개\n",
        "        x, y, stuff, operate = frame\n",
        "        if operate == 0: # 삭제하는 경우\n",
        "            answer.remove([x, y, stuff]) # 일단 삭제를 해본 뒤에\n",
        "            if not possible(answer): # 가능한 구조물인지 확인\n",
        "                answer.append([x, y, stuff]) # 가능한 구조물이 아니라면 다시 설치\n",
        "        if operate == 1: # 설치하는 경우\n",
        "            answer.append([x, y, stuff]) # 일단 설치를 해본 뒤에\n",
        "            if not possible(answer): # 가능한 구조물인지 확인\n",
        "                answer.remove([x, y, stuff]) # 가능한 구조물이 아니라면 다시 제거\n",
        "    return sorted(answer) # 정렬된 결과를 반환"
      ],
      "metadata": {
        "id": "QMuVOEOIe85t"
      },
      "execution_count": null,
      "outputs": []
    },
    {
      "cell_type": "markdown",
      "source": [
        "## 정답과 비교 및 개선\n",
        "\n",
        "- 정답코드와 접근법이 다름.\n",
        "\n",
        "- combination을 사용해서 그런지 시간이 조금 더 오래걸리는 것 같음."
      ],
      "metadata": {
        "id": "rir9UZWy-hd-"
      }
    }
  ]
}