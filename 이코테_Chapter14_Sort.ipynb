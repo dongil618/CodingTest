{
  "nbformat": 4,
  "nbformat_minor": 0,
  "metadata": {
    "colab": {
      "name": "이코테_Chapter14_Sort.ipynb",
      "provenance": [],
      "collapsed_sections": [],
      "authorship_tag": "ABX9TyPuWp4kpTiJ1IXFR3gQyUK5",
      "include_colab_link": true
    },
    "kernelspec": {
      "name": "python3",
      "display_name": "Python 3"
    },
    "language_info": {
      "name": "python"
    }
  },
  "cells": [
    {
      "cell_type": "markdown",
      "metadata": {
        "id": "view-in-github",
        "colab_type": "text"
      },
      "source": [
        "<a href=\"https://colab.research.google.com/github/dongil618/CodingTest/blob/main/%EC%9D%B4%EC%BD%94%ED%85%8C_Chapter14_Sort.ipynb\" target=\"_parent\"><img src=\"https://colab.research.google.com/assets/colab-badge.svg\" alt=\"Open In Colab\"/></a>"
      ]
    },
    {
      "cell_type": "markdown",
      "source": [
        "# [Q 23] 국영수\n",
        "이탤릭체 텍스트\n",
        "**난이도** ⚫⚪⚪ | **풀이시간** 20분 | **시간제한** 1초 | **메모리 제한** 256MB | **기출** 핵심유형\n",
        "\n",
        "\n",
        "- 도현이네 반 학생 N명의 이름과 국어, 영어, 수학 점수가 주어짐. 이때, 다음과 같은 조건으로 학생의 성적을 정렬하는 프로그램 작성\n",
        "\n",
        "1. 국어 점수가 감소하는 순서로\n",
        "\n",
        "2. 국어 점수가 같으면 영어 점수가 증가하는 순서로\n",
        "\n",
        "3. 국어 점수와 영어 점수가 같으면 수학 점수가 감소하는 순서로\n",
        "\n",
        "4. 모든 점수가 같으면 이름이 사전 순으로 증가하는 순서로 (단, 아스키코드에서 대문자는 소문자보다 작으므로 사전 순으로 앞에 옵니다.)\n",
        "\n",
        "\n",
        "**입력조건**\n",
        "- 첫 번째 줄에 도현이네 반의 학생수 N (${ 1 <= N <= 100,000 }$)\n",
        "\n",
        "- 둘째 줄부터 한 줄에 하나씩 각 학생의 이름, 국어, 영어, 수학 점수가 공백으로 구분해 주어짐.\n",
        "\n",
        "- 점수는 1보다 크거나 같고, 100보다 작거나 같은 자연수\n",
        "\n",
        "- 이름은 알파벳 대소문자로 이루어진 문자열이고, 길이는 10자리를 넘지 않음.\n",
        "\n",
        "\n",
        "**출력조건**\n",
        "- 문제에 나와 있는 정렬 기준으로 정렬한 후 첫째 줄부터 N개의 줄에 걸쳐 각 학생의 이름을 출력.\n"
      ],
      "metadata": {
        "id": "JloX1vUP8IxC"
      }
    },
    {
      "cell_type": "code",
      "source": [
        "# 도현이네 반 학생수 N 입력\n",
        "n = int(input())\n",
        "\n",
        "student_info = []\n",
        "\n",
        "for _ in range(n):\n",
        "  name, kor, eng, math = input().split()\n",
        "  student_info.append((name, kor, eng, math))\n",
        "\n",
        "student_info.sort(key=lambda x: (-int(x[1]), int(x[2]), -int(x[3]), x[0]))\n",
        "\n",
        "print(student_info)\n",
        "\n",
        "\n",
        "for student in student_info:\n",
        "  print(student[0])\n",
        "\n",
        "  "
      ],
      "metadata": {
        "colab": {
          "base_uri": "https://localhost:8080/"
        },
        "id": "mCBpG18JOvlD",
        "outputId": "c427038a-1e12-4e16-c86e-079be3c9db4a"
      },
      "execution_count": null,
      "outputs": [
        {
          "output_type": "stream",
          "name": "stdout",
          "text": [
            "12\n",
            "Junkyu 50 60 100\n",
            "Sangkeun 80 60 50\n",
            "Sungyoung 80 70 100\n",
            "Soong 50 60 100\n",
            "Haebin 50 60 100\n",
            "Kangsoo 60 80 100\n",
            "Donghyuk 80 60 100\n",
            "Sei 70 70 70\n",
            "Wonseob 70 70 90\n",
            "Sanghyun 70 70 80\n",
            "nsj 80 80 80\n",
            "Taewhan 50 60 90\n",
            "[('Donghyuk', '80', '60', '100'), ('Sangkeun', '80', '60', '50'), ('Sungyoung', '80', '70', '100'), ('nsj', '80', '80', '80'), ('Wonseob', '70', '70', '90'), ('Sanghyun', '70', '70', '80'), ('Sei', '70', '70', '70'), ('Kangsoo', '60', '80', '100'), ('Haebin', '50', '60', '100'), ('Junkyu', '50', '60', '100'), ('Soong', '50', '60', '100'), ('Taewhan', '50', '60', '90')]\n",
            "Donghyuk\n",
            "Sangkeun\n",
            "Sungyoung\n",
            "nsj\n",
            "Wonseob\n",
            "Sanghyun\n",
            "Sei\n",
            "Kangsoo\n",
            "Haebin\n",
            "Junkyu\n",
            "Soong\n",
            "Taewhan\n"
          ]
        }
      ]
    },
    {
      "cell_type": "code",
      "source": [
        "# 정답코드\n",
        "\n",
        "n = int(input())\n",
        "students = [] # 학생 정보를 담을 리스트\n",
        "\n",
        "# 모든 학생 정보를 입력 받기\n",
        "for _ in range(n):\n",
        "    students.append(input().split())\n",
        "\n",
        "'''\n",
        "[ 정렬 기준 ]\n",
        "1) 두 번째 원소를 기준으로 내림차순 정렬\n",
        "2) 두 번째 원소가 같은 경우, 세 번째 원소를 기준으로 오름차순 정렬\n",
        "3) 세 번째 원소가 같은 경우, 네 번째 원소를 기준으로 내림차순 정렬\n",
        "4) 네 번째 원소가 같은 경우, 첫 번째 원소를 기준으로 오름차순 정렬\n",
        "'''\n",
        "students.sort(key=lambda x: (-int(x[1]), int(x[2]), -int(x[3]), x[0]))\n",
        "\n",
        "# 정렬된 학생 정보에서 이름만 출력\n",
        "for student in students:\n",
        "    print(student[0])"
      ],
      "metadata": {
        "id": "3Bp7RTmlae6z"
      },
      "execution_count": null,
      "outputs": []
    },
    {
      "cell_type": "markdown",
      "source": [
        "## 정답과 비교 및 개선\n",
        "\n",
        "- sort함수 사용법에 대해 무지했음. lambda에 대해 조금 더 알아볼 필요가 있을듯함.\n",
        "\n",
        "- 미리 int()로 정수화시킬 필요없이 lambda함수 안에서 int()를 적용해도 된다는 사실을 알게됨.\n",
        "\n",
        "- lambda함수 안에서 순서가 필요 없다는 것을 알게 됨.\n",
        "ex) student_info.sort(key=lambda x: (-int(x[1]), int(x[2]), -int(x[3]), x[0]))\n",
        "student_info.sort(key=lambda x: (x[0], -int(x[1]), int(x[2]), -int(x[3]))) "
      ],
      "metadata": {
        "id": "LEHYOhVueJg8"
      }
    },
    {
      "cell_type": "markdown",
      "source": [
        "# [Q 24] 안테나\n",
        "**난이도** ⚫⚪⚪ | **풀이시간** 20분 | **시간제한** 2초 | **메모리 제한** 256MB | **기출** 2019 SW 마에스트로 입학 테스트\n",
        "\n",
        "\n",
        "- 일직선상의 마을에 여러 채의 집 위치\n",
        "\n",
        "- 이 중에서 특정 위치의 집에 특별히 한 개의 안테나를 설치하기로 결정\n",
        "\n",
        "- 효율성을 위해 안테나로부터 모든 집까지의 거리의 총합이 최소가 되도록 설치하려고 함.\n",
        "\n",
        "- 이때 안테나는 집이 위치한 곳에만 설치할 수 있고, 논리적으로 동일한 위치에 여러 개의 집이 존재하는 것이 가능\n",
        "\n",
        "- 집들의 위치값이 주어질 때, 안테나를 설치할 위치를 선택하는 프로그램을 작성\n",
        "\n",
        "- ex) N = 4이고, 각 위치가 1, 5, 7, 9일 때 가정, 이 경우 5의 위치에 설치했을 때, 안테나로부터 모든 집까지의 거리의 총합이 (4 + 0 + 2 + 4) = 10으로 최소가 됨.\n",
        "\n",
        "\n",
        "**입력조건**\n",
        "- 첫 번째 줄에 집의 수 N이 주어짐 (${ 1 <= N <= 200,000}$)\n",
        "\n",
        "- 둘째 줄에 N채의 집에 위치가 공백으로 구분되어 1 이상 100,000 이하의 자연수로 주어짐.\n",
        "\n",
        "**출력조건**\n",
        "- 첫째 줄에 안테나를 설치할 위치의 값을 출력. 단, 안테나를 설치할 수 있는 위치 값으로 여러 개의 값이 도출될 경우 가장 작은 값을 출력\n"
      ],
      "metadata": {
        "id": "0hvAjrWuuzAI"
      }
    },
    {
      "cell_type": "code",
      "source": [
        "# 핵심 IDEA : 중간값일 때 \n",
        "\n",
        "# 집의 수 N 입력받기\n",
        "n = int(input())\n",
        "\n",
        "\n",
        "# N채의 집의 위치 입력 받기\n",
        "position = set(map(int, input().split()))\n",
        "\n",
        "# 최소값은 중간값\n",
        "mid = n // 2\n",
        "print(mid-1)\n",
        "result = list(position)[mid-1]\n",
        "print(result)"
      ],
      "metadata": {
        "id": "yV640V0UuzAe",
        "colab": {
          "base_uri": "https://localhost:8080/"
        },
        "outputId": "3689944d-722e-4ea7-ac4a-33d8539fb8d0"
      },
      "execution_count": null,
      "outputs": [
        {
          "output_type": "stream",
          "name": "stdout",
          "text": [
            "12\n",
            "2 4 5 4 5 14 45 14 67 1 13 33\n",
            "6\n",
            "33\n"
          ]
        }
      ]
    },
    {
      "cell_type": "code",
      "source": [
        "# 정답코드\n",
        "\n",
        "n = int(input())\n",
        "a = list(map(int, input().split()))\n",
        "a.sort()\n",
        "\n",
        "# 중간값(median)을 출력\n",
        "print((n-1) // 2)\n",
        "print(a[(n - 1) // 2])"
      ],
      "metadata": {
        "id": "kiYNeJViuzAi",
        "colab": {
          "base_uri": "https://localhost:8080/"
        },
        "outputId": "3ad75552-ee4a-46e5-a180-3a199afe4005"
      },
      "execution_count": null,
      "outputs": [
        {
          "output_type": "stream",
          "name": "stdout",
          "text": [
            "12\n",
            "2 4 5 4 5 14 45 14 67 1 13 33\n",
            "5\n",
            "5\n"
          ]
        }
      ]
    },
    {
      "cell_type": "markdown",
      "source": [
        "## 정답과 비교 및 개선\n",
        "\n",
        "- 정답코드에서는 sort를 통해 정렬을 시켜주었고 내 코드에서는 set함수를 통해 정렬과 중복값을 제거해주었음. 그런데 굳이 중복값을 제거할 필요가 있을까?  **중복값을 제거하면 안됨** \n",
        "\n",
        "- 정답코드에서는 n-1 // 2를 통해 중간값을 정했고 내 코드에서는 n//2를 한 후에 -1을 통해 중간값을 정했음. 과연 모든 상황에서 둘 다 같은 값을 가질까? **다름**"
      ],
      "metadata": {
        "id": "bB1dWi-YuzAj"
      }
    },
    {
      "cell_type": "markdown",
      "source": [
        "# [Q 25] 실패율\n",
        "**난이도** ⚫⚪⚪ | **풀이시간** 20분 | **시간제한** 1초 | **메모리 제한** 128MB | **기출** 2019 카카오 신입 공채 1차\n",
        "\n",
        "\n",
        "- https://programmers.co.kr/learn/courses/30/lessons/42889 에서 풀기\n",
        "\n"
      ],
      "metadata": {
        "id": "mvKgSyy18z9n"
      }
    },
    {
      "cell_type": "markdown",
      "source": [
        "# [Q 26] 카드 정렬하기\n",
        "**난이도** ⚫⚫⚪ | **풀이시간** 30분 | **시간제한** 2초 | **메모리 제한** 128MB | **기출** 핵심유형\n",
        "\n",
        "\n",
        "- 정렬된 두 묶음의 숫자 카드 있음.\n",
        "\n",
        "- 각 묶음의 카드의 수를 A, B라 하면 보통 두 묶음을 합쳐서 하나로 만드는 데에는 A+B번 비교를 해야함.\n",
        "\n",
        "- ex) 20장의 숫자 카드 묶음과 30장의 숫자 카드 묶음을 합치려면 50번의 비교가 필요\n",
        "\n",
        "- 매우 많은 숫자 카드 묶음이 책상 위에 있고 이들을 두 묶음씩 골라 서로 합쳐나간다면 고르는 순서에 따라서 비교 횟수가 매우 달라짐.\n",
        "\n",
        "- ex) 10장, 20장, 40장의 묶음이 있다면 10장과 20장을 합친 뒤, 합친 30장 묶음과 40장을 합친다면 (10 + 20) + (30 + 40) = 100번의 비교가 필요. 그러나 10장과 40장을 합친 뒤, 합친 50장 묶음과 20장을 합친다면 (10 + 40) + (50 + 20) = 120번의 비교가 필요하므로 덜 효율적인 방법\n",
        "\n",
        "- N개의 숫자 카드 묶음의 각각의 크기가 주어질 때, 최소한 몇 번의 비교가 필요한지를 구하는 프로그램\n",
        "\n",
        "\n",
        "**입력조건**\n",
        "- 첫 번째 줄에 N이 주어짐 (${ 1 <= N <= 100,000}$) 이어서 N개의 줄에 걸쳐 숫자 카드 묶음의 각각의 크기가 주어짐\n",
        "\n",
        "- 둘째 줄에 N채의 집에 위치가 공백으로 구분되어 1 이상 100,000 이하의 자연수로 주어짐.\n",
        "\n",
        "**출력조건**\n",
        "- 첬재 줄에 최소 비교 횟수를 출력(21억 이하)\n",
        "\n"
      ],
      "metadata": {
        "id": "fARBQNlmFSpu"
      }
    },
    {
      "cell_type": "code",
      "source": [
        "# 핵심 아이디어 : 낮은 묶음의 순서대로 진행해야함.\n",
        "\n",
        "n = int(input())\n",
        "\n",
        "cards = []\n",
        "for _ in range(n):\n",
        "  cards.append(int(input()))\n",
        "\n",
        "cards.sort()\n",
        "\n",
        "result = []\n",
        "\n",
        "# 첫번째 묶음 더하기\n",
        "first = cards[0] + cards[1]\n",
        "result.append(first)\n",
        "\n",
        "for i in range(2, n):\n",
        "  # 좌변에는 이전에 묶음의 함 우변에는 새로운 묶음의 카드\n",
        "  left_side = result[i-2]\n",
        "  right_side = cards[i]\n",
        "  result.append(left_side + right_side)\n",
        "\n",
        "print(result)\n",
        "print(sum(result))"
      ],
      "metadata": {
        "colab": {
          "base_uri": "https://localhost:8080/"
        },
        "id": "seyICVjDVlRt",
        "outputId": "de514b07-7be1-4ae3-daea-62b11e4e1ce4"
      },
      "execution_count": 5,
      "outputs": [
        {
          "output_type": "stream",
          "name": "stdout",
          "text": [
            "3\n",
            "10\n",
            "20\n",
            "40\n",
            "[30, 70]\n",
            "100\n"
          ]
        }
      ]
    },
    {
      "cell_type": "code",
      "source": [
        "# 정답코드\n",
        "\n",
        "import heapq\n",
        "\n",
        "n = int(input())\n",
        "\n",
        "# 힙(Heap)에 초기 카드 묶음을 모두 삽입4\n",
        "heap = []\n",
        "for i in range(n):\n",
        "    data = int(input())\n",
        "    heapq.heappush(heap, data)\n",
        "print(heap)\n",
        "result = 0\n",
        "0\n",
        "# 힙(Heap)에 원소가 1개 남을 때까지\n",
        "while len(heap) != 1:\n",
        "    # 가장 작은 2개의 카드 묶음 꺼내기\n",
        "    one = heapq.heappop(heap)\n",
        "    two = heapq.heappop(heap)\n",
        "    # 카드 묶음을 합쳐서 다시 삽입\n",
        "    sum_value = one + two\n",
        "    result += sum_value\n",
        "    heapq.heappush(heap, sum_value)\n",
        "\n",
        "print(result)"
      ],
      "metadata": {
        "colab": {
          "base_uri": "https://localhost:8080/"
        },
        "outputId": "337ba74b-36b5-4c32-b0dc-c888fffbd915",
        "id": "SrUuqQsq8z9v"
      },
      "execution_count": 3,
      "outputs": [
        {
          "output_type": "stream",
          "name": "stdout",
          "text": [
            "4\n",
            "10\n",
            "20\n",
            "40\n",
            "50\n",
            "[10, 20, 40, 50]\n",
            "220\n"
          ]
        }
      ]
    },
    {
      "cell_type": "markdown",
      "source": [
        "## 정답과 비교 및 개선\n",
        "\n",
        "- for문 안에서 \"left_side = cards[i-2] + cards[i-1]\" 이 부분을 \"left_side = result[i-2]\"이렇게 고치니 정답 코드와 같은 결과값이 나옴.\n",
        "\n",
        "- heapq를 사용하는 것이 더 효율적인 코드가 되는 것 같음. 내 코드는 처음 값을 초기화하는 과정과 처음 입력된 리스트를 정렬하는 과정이 추가적으로 필요하기 때문. \n"
      ],
      "metadata": {
        "id": "u5G0jg8U8z9w"
      }
    }
  ]
}