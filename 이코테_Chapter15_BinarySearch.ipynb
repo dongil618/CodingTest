{
  "nbformat": 4,
  "nbformat_minor": 0,
  "metadata": {
    "colab": {
      "name": "이코테_Chapter15_BinarySearch.ipynb",
      "provenance": [],
      "collapsed_sections": [],
      "authorship_tag": "ABX9TyNzSe8xugVDsTJWi98XNeG5",
      "include_colab_link": true
    },
    "kernelspec": {
      "name": "python3",
      "display_name": "Python 3"
    },
    "language_info": {
      "name": "python"
    }
  },
  "cells": [
    {
      "cell_type": "markdown",
      "metadata": {
        "id": "view-in-github",
        "colab_type": "text"
      },
      "source": [
        "<a href=\"https://colab.research.google.com/github/dongil618/CodingTest/blob/main/%EC%9D%B4%EC%BD%94%ED%85%8C_Chapter15_BinarySearch.ipynb\" target=\"_parent\"><img src=\"https://colab.research.google.com/assets/colab-badge.svg\" alt=\"Open In Colab\"/></a>"
      ]
    },
    {
      "cell_type": "code",
      "source": [
        "# bisect 모듈\n",
        "\n",
        "import bisect\n",
        "\n",
        "result = []\n",
        "for score in [33, 99, 77, 70, 89, 90, 100]:\n",
        "    pos = bisect.bisect([60, 70, 80, 90], score)  # 점수가 정렬되어 삽입될 수 있는 포지션을 반환\n",
        "    print(f\"score : {score}일 때 pos : {pos}\")\n",
        "    grade = 'FDCBA'[pos]\n",
        "    result.append(grade)\n",
        "\n",
        "print(result)"
      ],
      "metadata": {
        "colab": {
          "base_uri": "https://localhost:8080/"
        },
        "id": "KlEF5m567lcT",
        "outputId": "722fe9ac-74dc-4e97-8ac3-2aa774902e2f"
      },
      "execution_count": 17,
      "outputs": [
        {
          "output_type": "stream",
          "name": "stdout",
          "text": [
            "score : 33일 때 pos : 0\n",
            "score : 99일 때 pos : 4\n",
            "score : 77일 때 pos : 2\n",
            "score : 70일 때 pos : 2\n",
            "score : 89일 때 pos : 3\n",
            "score : 90일 때 pos : 4\n",
            "score : 100일 때 pos : 4\n",
            "['F', 'A', 'C', 'C', 'B', 'A', 'A']\n"
          ]
        }
      ]
    },
    {
      "cell_type": "markdown",
      "source": [
        "# [Q 27] 정렬된 배열에서 특정 수의 개수 구하기\n",
        "이탤릭체 텍스트\n",
        "**난이도** ⚫⚫⚪ | **풀이시간** 30분 | **시간제한** 1초 | **메모리 제한** 128MB | **기출** Zoho 인터뷰\n",
        "\n",
        "\n",
        "- N개의 원소를 포함하고 있는 수열이 오름차순으로 정렬\n",
        "\n",
        "- 이때 이 수열에서 x가 등장하는 횟수를 계산\n",
        "\n",
        "- ex) {1, 1, 2, 2, 2, 2, 3}이 있을 때 x = 2라면, 현재 수열에서 값이 2인 원소가 4개이므로 4를 출력\n",
        "\n",
        "- 단, 이 문제는 시간 복잡도 O(logN)으로 알고리즘을 설계하지 않으면 '시간초과'판정을 받음\n",
        "\n",
        "**입력조건**\n",
        "- 첫 번째 줄에 N과 x가 정수 형태로 공백으로 구분되어 입력 (${ 1 <= N <= 1,000,000, (-10의 9승 <= x <= 10의 9승) }$)\n",
        "\n",
        "- 둘째 줄부터 한 줄에 하나씩 각 학생의 이름, 국어, 영어, 수학 점수가 공백으로 구분해 주어짐.\n",
        "\n",
        "- 점수는 1보다 크거나 같고, 100보다 작거나 같은 자연수\n",
        "\n",
        "- 이름은 알파벳 대소문자로 이루어진 문자열이고, 길이는 10자리를 넘지 않음.\n",
        "\n",
        "\n",
        "**출력조건**\n",
        "- 문제에 나와 있는 정렬 기준으로 정렬한 후 첫째 줄부터 N개의 줄에 걸쳐 각 학생의 이름을 출력.\n"
      ],
      "metadata": {
        "id": "JloX1vUP8IxC"
      }
    },
    {
      "cell_type": "code",
      "source": [
        "import bisect\n",
        "\n",
        "# N과 x 입력받기\n",
        "n, x = map(int, input().split())\n",
        "\n",
        "seq = list(map(int, input().split()))\n",
        "\n",
        "left = bisect.bisect_left(seq, x)\n",
        "right = bisect.bisect_right(seq, x)\n",
        "\n",
        "# print(left, right)\n",
        "# print(type(left))\n",
        "\n",
        "result = seq[left:right]\n",
        "\n",
        "#print(result)\n",
        "\n",
        "if len(result) == 0:\n",
        "  print(\"-1\")\n",
        "else:\n",
        "  print(len(result))\n",
        "  "
      ],
      "metadata": {
        "colab": {
          "base_uri": "https://localhost:8080/"
        },
        "id": "mCBpG18JOvlD",
        "outputId": "125c7674-c066-4db2-c0f9-808bfd931e27"
      },
      "execution_count": 13,
      "outputs": [
        {
          "output_type": "stream",
          "name": "stdout",
          "text": [
            "7 4\n",
            "1 1 2 2 2 2 3\n",
            "[]\n",
            "-1\n"
          ]
        }
      ]
    },
    {
      "cell_type": "code",
      "source": [
        "# 정답코드\n",
        "\n",
        "from bisect import bisect_left, bisect_right\n",
        "\n",
        "# 값이 [left_value, right_value]인 데이터의 개수를 반환하는 함수\n",
        "def count_by_range(array, left_value, right_value):\n",
        "    right_index = bisect_right(array, right_value)\n",
        "    left_index = bisect_left(array, left_value)\n",
        "    return right_index - left_index\n",
        "\n",
        "n, x = map(int, input().split()) # 데이터의 개수 N, 찾고자 하는 값 x 입력 받기\n",
        "array = list(map(int, input().split())) # 전체 데이터 입력 받기\n",
        "\n",
        "# 값이 [x, x] 범위에 있는 데이터의 개수 계산\n",
        "count = count_by_range(array, x, x)\n",
        "\n",
        "# 값이 x인 원소가 존재하지 않는다면\n",
        "if count == 0:\n",
        "    print(-1)\n",
        "# 값이 x인 원소가 존재한다면\n",
        "else:\n",
        "    print(count)"
      ],
      "metadata": {
        "id": "3Bp7RTmlae6z"
      },
      "execution_count": null,
      "outputs": []
    },
    {
      "cell_type": "markdown",
      "source": [
        "## 정답과 비교 및 개선\n",
        "\n",
        "- sort함수 사용법에 대해 무지했음. lambda에 대해 조금 더 알아볼 필요가 있을듯함.\n",
        "\n",
        "- 미리 int()로 정수화시킬 필요없이 lambda함수 안에서 int()를 적용해도 된다는 사실을 알게됨.\n",
        "\n",
        "- lambda함수 안에서 순서가 필요 없다는 것을 알게 됨.\n",
        "ex) student_info.sort(key=lambda x: (-int(x[1]), int(x[2]), -int(x[3]), x[0]))\n",
        "student_info.sort(key=lambda x: (x[0], -int(x[1]), int(x[2]), -int(x[3]))) "
      ],
      "metadata": {
        "id": "LEHYOhVueJg8"
      }
    },
    {
      "cell_type": "markdown",
      "source": [
        "# [Q 28] 고정점 찾기\n",
        "**난이도** ⚫⚫⚪ | **풀이시간** 20분 | **시간제한** 1초 | **메모리 제한** 128MB | **기출** Amazon 인터뷰\n",
        "\n",
        "\n",
        "- 고정점이란, 수열의 원소 중에서 그 값이 인덱스와 동일한 원소를 의미\n",
        "\n",
        "- ex) 수열 a = {-15, -4, 2, 8, 13}이 있을 때 a[2] = 2이므로 고정점은 2가 됨\n",
        "\n",
        "- 하나의 수열이 N개의 서로 다른 원소를 포함하고 있으며, 모든 원소가 오름차순으로 정렬되어 있음.\n",
        "\n",
        "- 이때 이 수열에서 고정점이 있다면, 고정점을 출력하는 프로그램을 작성.\n",
        "\n",
        "- 고정점은 최대 1개만 존재. 만약 고정점이 없다면 -1을 출력\n",
        "\n",
        "\n",
        "**입력조건**\n",
        "- 첫 번째 줄에 N이 입력됨 (${ 1 <= N <= 1,000,000}$)\n",
        "\n",
        "- 둘째 줄에 N개의 원소가 정수 형태로 공백으로 구분되어 입력 (${ -10의 9승 <= 각 원소의 값 <= 10의 9승 }$)\n",
        "\n",
        "**출력조건**\n",
        "- 고정점을 출력. 고정점이 없다면 -1을 출력\n"
      ],
      "metadata": {
        "id": "0hvAjrWuuzAI"
      }
    },
    {
      "cell_type": "code",
      "source": [
        "# 핵심 IDEA : \n",
        "def fixed_point_binary_search(array, start, end):\n",
        "  if start > end:\n",
        "    return None\n",
        "  mid = (start+end) // 2\n",
        "  # 고정점인 경우 중간점 인덱스 반환\n",
        "  if array[mid] == mid:\n",
        "    return mid\n",
        "  # 중간점의 값보다 찾고자 하는 값이 작은 경우 왼쪽 확인\n",
        "  elif array[mid] > mid:\n",
        "    return fixed_point_binary_search(array, start, mid-1)\n",
        "  # 중간점의 값보다 찾고자 하는 값이 큰 경우 오른쪽 확인\n",
        "  else:\n",
        "    return fixed_point_binary_search(array, mid+1, end)\n",
        "\n",
        "# N 입력받기\n",
        "n = int(input())\n",
        "\n",
        "# N개의 원소 입력받기\n",
        "elements = list(map(int, input().split()))\n",
        "\n",
        "result = fixed_point_binary_search(elements, 0, n-1)\n",
        "\n",
        "if result == None:\n",
        "  print(\"-1\")\n",
        "else:\n",
        "  print(result)"
      ],
      "metadata": {
        "id": "yV640V0UuzAe",
        "colab": {
          "base_uri": "https://localhost:8080/"
        },
        "outputId": "e7169b07-275b-4be8-f7c3-6debe874ad5a"
      },
      "execution_count": 16,
      "outputs": [
        {
          "output_type": "stream",
          "name": "stdout",
          "text": [
            "7\n",
            "-15 -4 2 8 9 13 15\n",
            "2\n"
          ]
        }
      ]
    },
    {
      "cell_type": "code",
      "source": [
        "# 정답코드\n",
        "\n",
        "n = int(input())\n",
        "a = list(map(int, input().split()))\n",
        "a.sort()\n",
        "\n",
        "# 중간값(median)을 출력\n",
        "print((n-1) // 2)\n",
        "print(a[(n - 1) // 2])"
      ],
      "metadata": {
        "id": "kiYNeJViuzAi",
        "colab": {
          "base_uri": "https://localhost:8080/"
        },
        "outputId": "3ad75552-ee4a-46e5-a180-3a199afe4005"
      },
      "execution_count": null,
      "outputs": [
        {
          "output_type": "stream",
          "name": "stdout",
          "text": [
            "12\n",
            "2 4 5 4 5 14 45 14 67 1 13 33\n",
            "5\n",
            "5\n"
          ]
        }
      ]
    },
    {
      "cell_type": "markdown",
      "source": [
        "## 정답과 비교 및 개선\n",
        "\n",
        "- 정답코드에서는 sort를 통해 정렬을 시켜주었고 내 코드에서는 set함수를 통해 정렬과 중복값을 제거해주었음. 그런데 굳이 중복값을 제거할 필요가 있을까?  **중복값을 제거하면 안됨** \n",
        "\n",
        "- 정답코드에서는 n-1 // 2를 통해 중간값을 정했고 내 코드에서는 n//2를 한 후에 -1을 통해 중간값을 정했음. 과연 모든 상황에서 둘 다 같은 값을 가질까? **다름**"
      ],
      "metadata": {
        "id": "bB1dWi-YuzAj"
      }
    },
    {
      "cell_type": "markdown",
      "source": [
        "# [Q 25] 실패율\n",
        "**난이도** ⚫⚪⚪ | **풀이시간** 20분 | **시간제한** 1초 | **메모리 제한** 128MB | **기출** 2019 카카오 신입 공채 1차\n",
        "\n",
        "\n",
        "- https://programmers.co.kr/learn/courses/30/lessons/42889 에서 풀기\n",
        "\n"
      ],
      "metadata": {
        "id": "mvKgSyy18z9n"
      }
    },
    {
      "cell_type": "markdown",
      "source": [
        "# [Q 26] 카드 정렬하기\n",
        "**난이도** ⚫⚫⚪ | **풀이시간** 30분 | **시간제한** 2초 | **메모리 제한** 128MB | **기출** 핵심유형\n",
        "\n",
        "\n",
        "- 정렬된 두 묶음의 숫자 카드 있음.\n",
        "\n",
        "- 각 묶음의 카드의 수를 A, B라 하면 보통 두 묶음을 합쳐서 하나로 만드는 데에는 A+B번 비교를 해야함.\n",
        "\n",
        "- ex) 20장의 숫자 카드 묶음과 30장의 숫자 카드 묶음을 합치려면 50번의 비교가 필요\n",
        "\n",
        "- 매우 많은 숫자 카드 묶음이 책상 위에 있고 이들을 두 묶음씩 골라 서로 합쳐나간다면 고르는 순서에 따라서 비교 횟수가 매우 달라짐.\n",
        "\n",
        "- ex) 10장, 20장, 40장의 묶음이 있다면 10장과 20장을 합친 뒤, 합친 30장 묶음과 40장을 합친다면 (10 + 20) + (30 + 40) = 100번의 비교가 필요. 그러나 10장과 40장을 합친 뒤, 합친 50장 묶음과 20장을 합친다면 (10 + 40) + (50 + 20) = 120번의 비교가 필요하므로 덜 효율적인 방법\n",
        "\n",
        "- N개의 숫자 카드 묶음의 각각의 크기가 주어질 때, 최소한 몇 번의 비교가 필요한지를 구하는 프로그램\n",
        "\n",
        "\n",
        "**입력조건**\n",
        "- 첫 번째 줄에 N이 주어짐 (${ 1 <= N <= 100,000}$) 이어서 N개의 줄에 걸쳐 숫자 카드 묶음의 각각의 크기가 주어짐\n",
        "\n",
        "- 둘째 줄에 N채의 집에 위치가 공백으로 구분되어 1 이상 100,000 이하의 자연수로 주어짐.\n",
        "\n",
        "**출력조건**\n",
        "- 첬재 줄에 최소 비교 횟수를 출력(21억 이하)\n",
        "\n"
      ],
      "metadata": {
        "id": "fARBQNlmFSpu"
      }
    },
    {
      "cell_type": "code",
      "source": [
        "# 핵심 아이디어 : 낮은 묶음의 순서대로 진행해야함.\n",
        "\n",
        "n = int(input())\n",
        "\n",
        "cards = []\n",
        "for _ in range(n):\n",
        "  cards.append(int(input()))\n",
        "\n",
        "cards.sort()\n",
        "\n",
        "result = []\n",
        "\n",
        "# 첫번째 묶음 더하기\n",
        "first = cards[0] + cards[1]\n",
        "result.append(first)\n",
        "\n",
        "for i in range(2, n):\n",
        "  # 좌변에는 이전에 묶음의 함 우변에는 새로운 묶음의 카드\n",
        "  left_side = result[i-2]\n",
        "  right_side = cards[i]\n",
        "  result.append(left_side + right_side)\n",
        "\n",
        "print(result)\n",
        "print(sum(result))"
      ],
      "metadata": {
        "colab": {
          "base_uri": "https://localhost:8080/"
        },
        "id": "seyICVjDVlRt",
        "outputId": "de514b07-7be1-4ae3-daea-62b11e4e1ce4"
      },
      "execution_count": null,
      "outputs": [
        {
          "output_type": "stream",
          "name": "stdout",
          "text": [
            "3\n",
            "10\n",
            "20\n",
            "40\n",
            "[30, 70]\n",
            "100\n"
          ]
        }
      ]
    },
    {
      "cell_type": "code",
      "source": [
        "# 정답코드\n",
        "\n",
        "import heapq\n",
        "\n",
        "n = int(input())\n",
        "\n",
        "# 힙(Heap)에 초기 카드 묶음을 모두 삽입4\n",
        "heap = []\n",
        "for i in range(n):\n",
        "    data = int(input())\n",
        "    heapq.heappush(heap, data)\n",
        "print(heap)\n",
        "result = 0\n",
        "0\n",
        "# 힙(Heap)에 원소가 1개 남을 때까지\n",
        "while len(heap) != 1:\n",
        "    # 가장 작은 2개의 카드 묶음 꺼내기\n",
        "    one = heapq.heappop(heap)\n",
        "    two = heapq.heappop(heap)\n",
        "    # 카드 묶음을 합쳐서 다시 삽입\n",
        "    sum_value = one + two\n",
        "    result += sum_value\n",
        "    heapq.heappush(heap, sum_value)\n",
        "\n",
        "print(result)"
      ],
      "metadata": {
        "colab": {
          "base_uri": "https://localhost:8080/"
        },
        "outputId": "337ba74b-36b5-4c32-b0dc-c888fffbd915",
        "id": "SrUuqQsq8z9v"
      },
      "execution_count": null,
      "outputs": [
        {
          "output_type": "stream",
          "name": "stdout",
          "text": [
            "4\n",
            "10\n",
            "20\n",
            "40\n",
            "50\n",
            "[10, 20, 40, 50]\n",
            "220\n"
          ]
        }
      ]
    },
    {
      "cell_type": "markdown",
      "source": [
        "## 정답과 비교 및 개선\n",
        "\n",
        "- for문 안에서 \"left_side = cards[i-2] + cards[i-1]\" 이 부분을 \"left_side = result[i-2]\"이렇게 고치니 정답 코드와 같은 결과값이 나옴.\n",
        "\n",
        "- heapq를 사용하는 것이 더 효율적인 코드가 되는 것 같음. 내 코드는 처음 값을 초기화하는 과정과 처음 입력된 리스트를 정렬하는 과정이 추가적으로 필요하기 때문. \n"
      ],
      "metadata": {
        "id": "u5G0jg8U8z9w"
      }
    }
  ]
}