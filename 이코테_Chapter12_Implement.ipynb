{
  "nbformat": 4,
  "nbformat_minor": 0,
  "metadata": {
    "colab": {
      "name": "이코테_Chapter12_Implement.ipynb",
      "provenance": [],
      "collapsed_sections": [],
      "authorship_tag": "ABX9TyOkQFCli3ZB+brEgkG8nKcK",
      "include_colab_link": true
    },
    "kernelspec": {
      "name": "python3",
      "display_name": "Python 3"
    },
    "language_info": {
      "name": "python"
    }
  },
  "cells": [
    {
      "cell_type": "markdown",
      "metadata": {
        "id": "view-in-github",
        "colab_type": "text"
      },
      "source": [
        "<a href=\"https://colab.research.google.com/github/dongil618/CodingTest/blob/main/%EC%9D%B4%EC%BD%94%ED%85%8C_Chapter12_Implement.ipynb\" target=\"_parent\"><img src=\"https://colab.research.google.com/assets/colab-badge.svg\" alt=\"Open In Colab\"/></a>"
      ]
    },
    {
      "cell_type": "markdown",
      "source": [
        "# [Q 07] 럭키 스트레이트\n",
        "이탤릭체 텍스트\n",
        "**난이도** ⚫⚪⚪ | **풀이시간** 20분 | **시간제한** 1초 | **메모리 제한** 128MB | **기출** 핵심유형\n",
        "\n",
        "\n",
        "- 캐릭터 필살기 \"럭키 스트레이\"는 특정 조건 만족할 때 사용 가능\n",
        "\n",
        "- 특정 조건\n",
        "  - 현재 캐릭터의 점수를 N이라고 할 때 자릿수를 기준으로 점수 N을 반으로 나누어 왼쪽 부분의 각 자릿수의 합과 오른쪽 부분의 각 자릿수의 합을 더한 값이 동일한 상황\n",
        "\n",
        "- ex) 현재 점수가 123,402라면 왼쪽 부분의 각 자릿수의 합은 1 + 2 + 3, 오른쪽 부분의 각 자릿수의 합은 4 + 0 + 2이므로 두 합이 6으로 동일하여 럭키 스트레이트를 사용 가능 \n",
        "\n",
        "**입력조건**\n",
        "- 첫 번째 줄에 점수 N이 정수로 주어짐 (${ 10<= N <= 99,999,999}$) 단, 점수 N의 자릿수는 항상 짝수 형태로만 주어짐. 예를 들어 자릿수가 5인 12,345와 같은 수는 입력으로 들어오지 않음.\n",
        "\n",
        "**출력조건**\n",
        "- 첫째 줄에 럭키 스트레이트를 사용할 수 있다면 \"LUCKY\"를, 사용할 수 없다면 \"READY\"를 출력\n"
      ],
      "metadata": {
        "id": "JloX1vUP8IxC"
      }
    },
    {
      "cell_type": "code",
      "source": [
        "def str_sum(str_list):\n",
        "  result = 0\n",
        "  for str in str_list:\n",
        "    result += int(str)\n",
        "  return result\n",
        "\n",
        "# n 입력\n",
        "n = input()\n",
        "\n",
        "print(len(n))\n",
        "\n",
        "mid = len(n)//2\n",
        "print(mid)\n",
        "\n",
        "\n",
        "# left n, right n 부분으로 나누는 처리\n",
        "left_n = list(n[:mid])\n",
        "right_n = list(n[mid:])\n",
        "\n",
        "\n",
        "sum_left_n = str_sum(left_n)\n",
        "sum_right_n = str_sum(right_n)\n",
        "\n",
        "if sum_left_n == sum_right_n:\n",
        "  print(\"LUCKY\")\n",
        "else:\n",
        "  print(\"READY\")"
      ],
      "metadata": {
        "colab": {
          "base_uri": "https://localhost:8080/"
        },
        "id": "mCBpG18JOvlD",
        "outputId": "a96bafdf-cca6-45f8-b75a-167db5d7d32e"
      },
      "execution_count": 13,
      "outputs": [
        {
          "output_type": "stream",
          "name": "stdout",
          "text": [
            "7755\n",
            "4\n",
            "2\n",
            "READY\n"
          ]
        }
      ]
    },
    {
      "cell_type": "code",
      "source": [
        "# 정답코드\n",
        "\n",
        "n = input()\n",
        "length = len(n) # 점수 값의 총 자릿수\n",
        "summary = 0\n",
        "\n",
        "# 왼쪽 부분의 자릿수의 합 더하기\n",
        "for i in range(length // 2):\n",
        "    summary += int(n[i])\n",
        "\n",
        "# 오른쪽 부분의 자릿수의 합 빼기\n",
        "for i in range(length // 2, length):\n",
        "    summary -= int(n[i])\n",
        "\n",
        "# 왼쪽 부분과 오른쪽 부분의 자릿수 합이 동일한지 검사\n",
        "if summary == 0:\n",
        "    print(\"LUCKY\")\n",
        "else:\n",
        "    print(\"READY\")"
      ],
      "metadata": {
        "colab": {
          "base_uri": "https://localhost:8080/"
        },
        "id": "3Bp7RTmlae6z",
        "outputId": "6cb4ac45-8636-4588-dafc-f9d842bf8719"
      },
      "execution_count": 14,
      "outputs": [
        {
          "output_type": "stream",
          "name": "stdout",
          "text": [
            "7755\n",
            "READY\n"
          ]
        }
      ]
    },
    {
      "cell_type": "markdown",
      "source": [
        "## 정답과 비교 및 개선\n",
        "\n",
        "- summary라는 한 변수에 왼쪽 부분을 각각 더하고 오른쪽 부분을 각각 빼서 양 쪽 자릿수의 합이 같다면 0이기 때문에 if summary == 0으로 조건을 걸어 답을 도출했음. 나의 코드보다 훨 씬 변수도 적게 사용했고 깔끔한 것 같음. 다음 비슷한 유형의 문제가 나올 때 나도 최대한 변수를 적게 사용해서 풀 수 있는 방법을 조금 더 고민해봐야겠음."
      ],
      "metadata": {
        "id": "LEHYOhVueJg8"
      }
    },
    {
      "cell_type": "markdown",
      "source": [
        "# [Q 08] 문자열 재정렬\n",
        "**난이도** ⚫⚪⚪ | **풀이시간** 20분 | **시간제한** 1초 | **메모리 제한** 128MB | **기출** Facebook 인터뷰\n",
        "\n",
        "\n",
        "- 알파벳 대문자와 숫자(0~9)로만 구성된 문자열이 입력으로 주어짐.\n",
        "\n",
        "- 이때 모든 알파벳을 오른차숨으로 정렬하여 이어서 출력한 뒤에, 그 뒤에 모든 숫자를 더한 값을 이어서 출력\n",
        "\n",
        "- ex) K1KA5CB7 ${ ABCKK13 }$을 출력\n",
        "\n",
        "**입력조건**\n",
        "- 첫 번째 줄에 하나의 문자열 S가 주어짐 (${ 1<= S의 길이 <= 10,000}$)\n",
        "\n",
        "**출력조건**\n",
        "- 첫째 줄에 문제에서 요구하는 정답 출력\n"
      ],
      "metadata": {
        "id": "0hvAjrWuuzAI"
      }
    },
    {
      "cell_type": "code",
      "source": [
        "# 핵심 IDEA : 0이나 1이면 더하기를 해야 최댓값, 그 이외의 숫자는 곱하기를 해야 최댓값 / 젤 앞에 0이 나왔을 경우 예외처리를 해줘야 함.  or \n",
        "\n",
        "# 문자열 S입력\n",
        "s = list(input())\n",
        "s.sort()\n",
        "print(s)\n",
        "\n",
        "# 숫자인지 비교를 위한 리스트\n",
        "number = [\"1\", \"2\", \"3\", \"4\", \"5\", \"6\", \"7\", \"8\", \"9\",]\n",
        "\n",
        "# 숫자로 판별된 리스트를 정수화 시켜서 담을 리스트\n",
        "n_array = []\n",
        "\n",
        "# 뒷 부분에 s_array부분을 위해\n",
        "s_start = 0\n",
        "for i in s:\n",
        "  if i in number:\n",
        "    n_array.append(int(i))\n",
        "    s_start += 1\n",
        "  # 정렬 후에 for문을 돌리는 것이라서 문자가 나오자 마자 for문 종료\n",
        "  else:\n",
        "    break\n",
        "\n",
        "#print(s_start)\n",
        "s_array = s[s_start:]\n",
        "\n",
        "#print(n_array)\n",
        "#print(s_array)\n",
        "\n",
        "result = \"\".join(s_array) + str(sum(n_array))\n",
        "\n",
        "print(result)\n"
      ],
      "metadata": {
        "id": "yV640V0UuzAe",
        "colab": {
          "base_uri": "https://localhost:8080/"
        },
        "outputId": "b9d6710f-5735-4098-98f5-954ba457fde5"
      },
      "execution_count": 22,
      "outputs": [
        {
          "output_type": "stream",
          "name": "stdout",
          "text": [
            "K1KA5CB7\n",
            "['1', '5', '7', 'A', 'B', 'C', 'K', 'K']\n",
            "ABCKK13\n"
          ]
        }
      ]
    },
    {
      "cell_type": "code",
      "source": [
        "# 정답코드\n",
        "\n",
        "data = input()\n",
        "result = []\n",
        "value = 0\n",
        "\n",
        "# 문자를 하나씩 확인하며\n",
        "for x in data:\n",
        "    # 알파벳인 경우 결과 리스트에 삽입\n",
        "    if x.isalpha():\n",
        "        result.append(x)\n",
        "    # 숫자는 따로 더하기\n",
        "    else:\n",
        "        value += int(x)\n",
        "\n",
        "# 알파벳을 오름차순으로 정렬\n",
        "result.sort()\n",
        "\n",
        "# 숫자가 하나라도 존재하는 경우 가장 뒤에 삽입\n",
        "if value != 0:\n",
        "    result.append(str(value))\n",
        "\n",
        "# 최종 결과 출력(리스트를 문자열로 변환하여 출력)\n",
        "print(''.join(result))"
      ],
      "metadata": {
        "id": "kiYNeJViuzAi"
      },
      "execution_count": null,
      "outputs": []
    },
    {
      "cell_type": "markdown",
      "source": [
        "## 정답과 비교 및 개선\n",
        "\n",
        "- 정답코드는 isalpha()라는 함수를 사용해 알파벳인 경우 리스트에 따로 담고 나머지 숫자는 따로 int()함수로 정수로 만들어 더한후 알파벳 리스트만 오름차순 정렬 후 숫자가 하나라도 존재하는 경우 가장 뒤에 숫자를 삽입하는 형식으로 결과를 도출\n",
        "\n",
        "- 반면 나는 해당 함수를 몰랐기 때문에 1-9를 닮은 숫자 리스트로 in함수를 사용해 숫자와 문자를 분리. 그 후에 각각 처리해서 결과값을 도출함."
      ],
      "metadata": {
        "id": "bB1dWi-YuzAj"
      }
    },
    {
      "cell_type": "markdown",
      "source": [
        "# [Q 09] 문자열 압축\n",
        "**난이도** ⚫⚫⚪ | **풀이시간** 30분 | **시간제한** 1초 | **메모리 제한** 128MB | **기출** 2020 카카오 신입 공채\n",
        "\n",
        "\n",
        "- https://programmers.co.kr/learn/courses/30/lessons/60057 에서 풀기\n",
        "\n"
      ],
      "metadata": {
        "id": "mvKgSyy18z9n"
      }
    },
    {
      "cell_type": "code",
      "source": [
        "# 정답코드\n",
        "\n",
        "data = input()\n",
        "count0 = 0 # 전부 0으로 바꾸는 경우\n",
        "count1 = 0 # 전부 1로 바꾸는 경우\n",
        "\n",
        "# 첫 번째 원소에 대해서 처리\n",
        "if data[0] == '1':\n",
        "    count0 += 1\n",
        "else:\n",
        "    count1 += 1\n",
        "\n",
        "# 두 번째 원소부터 모든 원소를 확인하며\n",
        "for i in range(len(data) - 1):\n",
        "    if data[i] != data[i + 1]:\n",
        "        # 다음 수에서 1로 바뀌는 경우\n",
        "        if data[i + 1] == '1':\n",
        "            count0 += 1\n",
        "        # 다음 수에서 0으로 바뀌는 경우\n",
        "        else:\n",
        "            count1 += 1\n",
        "\n",
        "print(min(count0, count1))"
      ],
      "metadata": {
        "colab": {
          "base_uri": "https://localhost:8080/"
        },
        "outputId": "32c57055-a7d7-4065-e6d3-45d922c8c9fb",
        "id": "SrUuqQsq8z9v"
      },
      "execution_count": null,
      "outputs": [
        {
          "output_type": "stream",
          "name": "stdout",
          "text": [
            "0010100101110001110100010111\n",
            "8\n"
          ]
        }
      ]
    },
    {
      "cell_type": "markdown",
      "source": [
        "## 정답과 비교 및 개선\n",
        "\n",
        "- 문제풀이 접근은 어느정도 했지만 문제를 풀지 못함\n"
      ],
      "metadata": {
        "id": "u5G0jg8U8z9w"
      }
    },
    {
      "cell_type": "markdown",
      "source": [
        "# [Q 10] 자물쇠와 열쇠\n",
        "**난이도** ⚫⚫⚪ | **풀이시간** 40분 | **시간제한** 1초 | **메모리 제한** 128MB | **기출** 2020 카카오 신입 공채\n",
        "\n",
        "\n",
        "- https://programmers.co.kr/learn/courses/30/lessons/60059"
      ],
      "metadata": {
        "id": "OSOZaYFCCYhm"
      }
    },
    {
      "cell_type": "code",
      "source": [
        "# 정답코드\n",
        "\n",
        "# 2차원 리스트 90도 회전하기\n",
        "def rotate_a_matrix_by_90_degree(a):\n",
        "    n = len(a) # 행 길이 계산\n",
        "    m = len(a[0]) # 열 길이 계산\n",
        "    result = [[0] * n for _ in range(m)] # 결과 리스트\n",
        "    for i in range(n):\n",
        "        for j in range(m):\n",
        "            result[j][n - i - 1] = a[i][j]\n",
        "    return result\n",
        "\n",
        "# 자물쇠의 중간 부분이 모두 1인지 확인\n",
        "def check(new_lock):\n",
        "    lock_length = len(new_lock) // 3\n",
        "    for i in range(lock_length, lock_length * 2):\n",
        "        for j in range(lock_length, lock_length * 2):\n",
        "            if new_lock[i][j] != 1:\n",
        "                return False\n",
        "    return True\n",
        "\n",
        "def solution(key, lock):\n",
        "    n = len(lock)\n",
        "    m = len(key)\n",
        "    # 자물쇠의 크기를 기존의 3배로 변환\n",
        "    new_lock = [[0] * (n * 3) for _ in range(n * 3)]\n",
        "    # 새로운 자물쇠의 중앙 부분에 기존의 자물쇠 넣기\n",
        "    for i in range(n):\n",
        "        for j in range(n):\n",
        "            new_lock[i + n][j + n] = lock[i][j]\n",
        "\n",
        "    # 4가지 방향에 대해서 확인\n",
        "    for rotation in range(4):\n",
        "        key = rotate_a_matrix_by_90_degree(key) # 열쇠 회전\n",
        "        for x in range(n * 2):\n",
        "            for y in range(n * 2):\n",
        "                # 자물쇠에 열쇠를 끼워 넣기\n",
        "                for i in range(m):\n",
        "                    for j in range(m):\n",
        "                        new_lock[x + i][y + j] += key[i][j]\n",
        "                # 새로운 자물쇠에 열쇠가 정확히 들어 맞는지 검사\n",
        "                if check(new_lock) == True:\n",
        "                    return True\n",
        "                # 자물쇠에서 열쇠를 다시 빼기\n",
        "                for i in range(m):\n",
        "                    for j in range(m):\n",
        "                        new_lock[x + i][y + j] -= key[i][j]\n",
        "    return False"
      ],
      "metadata": {
        "colab": {
          "base_uri": "https://localhost:8080/"
        },
        "outputId": "ed7cd483-350d-40ec-df0a-654f78437d81",
        "id": "HBxP9hrvCYiE"
      },
      "execution_count": null,
      "outputs": [
        {
          "output_type": "stream",
          "name": "stdout",
          "text": [
            "5\n",
            "3 2 1 1 9\n",
            "8\n"
          ]
        }
      ]
    },
    {
      "cell_type": "markdown",
      "source": [
        "## 정답과 비교 및 개선\n",
        "\n",
        "- 문제풀이 접근 자체가 잘못됐음. 처음에 소수 알고리즘을 통해 구하는것으로 접근했고 이후에는 리스트 내의 가장 큰 수까지 반복문을 돌리면서 만들수있는 화폐를 비교하려고 했는데 만들수있는 화폐를 어떻게 다 구하는 것인가에서 막혔음.\n",
        "\n",
        "- 정답코드를 보니 정렬과 target에 1을 초기화하고 target에 정렬된 리스트 내부의 요소를 하나씩 더해주는 것이 핵심인 것 같음. 이 핵심 아이디어를 떠올리는 것이 참 어려움."
      ],
      "metadata": {
        "id": "-4RulyKnCYiE"
      }
    },
    {
      "cell_type": "markdown",
      "source": [
        "# [Q 05] 볼링공 고르기\n",
        "**난이도** ⚫⚪⚪ | **풀이시간** 30분 | **시간제한** 1초 | **메모리 제한** 128MB | **기출** 2019 SW 마에스트로 입학 테스트\n",
        "\n",
        "\n",
        "-\n",
        "\n",
        "**입력조건**\n",
        "- (${1<= N <= 1,000, 1<= M<=10}$\n",
        "\n",
        "-  (${1<=K<M}$)\n",
        "\n",
        "**출력조건**\n",
        "- -\n"
      ],
      "metadata": {
        "id": "4Vw1bUgoe5BQ"
      }
    },
    {
      "cell_type": "code",
      "source": [
        "# 핵심 IDEA : \n",
        "import time\n",
        "from itertools import combinations\n",
        "\n",
        "# 정수 N, M 입력\n",
        "n,m = map(int,input().split())\n",
        "#print(n, m)\n",
        "\n",
        "# 볼링공의 무게 입력받기\n",
        "array = list(map(int, input().split()))\n",
        "#print(array)\n",
        "\n",
        "# 시작시간\n",
        "start = time.time()\n",
        "\n",
        "# 새로운 리스트에 (번호, 무게) 로 저장\n",
        "new_array = []\n",
        "for i in range(1,n+1):\n",
        "  new_array.append((i,array[i-1]))\n",
        "\n",
        "#print(new_array)\n",
        "combinations_array = list(combinations(new_array, 2))\n",
        "#print(combinations_array)\n",
        "\n",
        "\n",
        "for comb in combinations_array:\n",
        "  # 만약 a가 고른 볼링공과 b가 고른 볼링공의 무게가 같다면 해당 요소를 삭제\n",
        "  if comb[0][1] == comb[1][1]:\n",
        "    combinations_array.remove(comb)\n",
        "\n",
        "#print(combinations_array)\n",
        "print(len(combinations_array))\n",
        "\n",
        "\n",
        "# 종료시간\n",
        "print(\"time :\", (time.time() - start)*1000)  # 현재시각 - 시작시간 = 실행 시간\n"
      ],
      "metadata": {
        "colab": {
          "base_uri": "https://localhost:8080/"
        },
        "outputId": "56996fc2-ee52-4054-c7bf-7b4fc4e52f82",
        "id": "GdVeMxu4e5BS"
      },
      "execution_count": null,
      "outputs": [
        {
          "output_type": "stream",
          "name": "stdout",
          "text": [
            "8 5\n",
            "1 5 4 3 2 4 5 2\n",
            "25\n",
            "time : 1.18255615234375\n"
          ]
        }
      ]
    },
    {
      "cell_type": "code",
      "source": [
        "# 정답코드\n",
        "import time\n",
        "\n",
        "n, m = map(int, input().split())\n",
        "data = list(map(int, input().split()))\n",
        "\n",
        "# 시작시간\n",
        "start = time.time()\n",
        "\n",
        "# 1부터 10까지의 무게를 담을 수 있는 리스트\n",
        "array = [0] * 11\n",
        "\n",
        "for x in data:\n",
        "    # 각 무게에 해당하는 볼링공의 개수 카운트\n",
        "    array[x] += 1\n",
        "\n",
        "print(f\"array[x] : {array[x]}\")\n",
        "\n",
        "result = 0\n",
        "# 1부터 m까지의 각 무게에 대하여 처리\n",
        "for i in range(1, m + 1):\n",
        "    n -= array[i] # 무게가 i인 볼링공의 개수(A가 선택할 수 있는 개수) 제외\n",
        "    result += array[i] * n # B가 선택하는 경우의 수와 곱해주기\n",
        "    print(f\"i : {i}, n : {n}, array[{i}] : {array[i]}, result : {result}\")\n",
        "\n",
        "print(result)\n",
        "# 종료시간\n",
        "print(\"time :\", (time.time() - start)*1000)  # 현재시각 - 시작시간 = 실행 시간\n"
      ],
      "metadata": {
        "colab": {
          "base_uri": "https://localhost:8080/"
        },
        "outputId": "f5193199-1575-4b8d-aa11-aafcf48d8413",
        "id": "0Sx3sQcSe5BT"
      },
      "execution_count": null,
      "outputs": [
        {
          "output_type": "stream",
          "name": "stdout",
          "text": [
            "5 3\n",
            "1 3 2 3 2\n",
            "array[x] : 2\n",
            "i : 1, n : 4, array[1] : 1, result : 4\n",
            "i : 2, n : 2, array[2] : 2, result : 8\n",
            "i : 3, n : 0, array[3] : 2, result : 8\n",
            "8\n",
            "time : 1.3954639434814453\n"
          ]
        }
      ]
    },
    {
      "cell_type": "markdown",
      "source": [
        "## 정답과 비교 및 개선\n",
        "\n",
        "- 정답코드와 접근법이 다름.\n",
        "\n",
        "- combination을 사용해서 그런지 시간이 조금 더 오래걸리는 것 같음."
      ],
      "metadata": {
        "id": "5gD6Fsuse5BV"
      }
    },
    {
      "cell_type": "markdown",
      "source": [
        "# [Q 06] 무지의 먹방 라이브\n",
        "**난이도** ⚫⚪⚪ | **풀이시간** 30분 | **시간제한** 1초 | **메모리 제한** 128MB | **기출** 2019 카카오 신입 공채\n",
        "\n",
        "\n",
        "- 볼링공 N개 있으며 각 볼링공마다 무게가 적혀있고, 공의 번호는 1번부터 순서대로 부여됨.\n",
        "\n",
        "- 같은 무게의 공이 여러 개 있을 수 있지만, 서로 다른 공으로 간주\n",
        "\n",
        "- 볼링공의 무게는 1부터 M까지 자연수 형태로 존재\n",
        "\n",
        "- ex) N = 5, M = 3 각각의 무개가 차례대로 1, 3, 2, 3, 2일때 각 공의 번호가 차례대로 1번부터 5번까지 부여. 이 때 두 사람이 고를 수 있는 볼링공 번호의 조합을 구혀면 다음과 같음.\n",
        "(1번, 2번), (1번, 3번), (1번, 4번), (1번, 5번), (2번, 3번), (2번, 5번), (3번, 4번), (4번, 5번) => 8가지\n",
        "\n",
        "- N개의 공의 무게가 각각 주어질 때, 두 사람이 볼링공을 고르는 경우의 수를 구하는 프로그램\n",
        "\n",
        "**입력조건**\n",
        "- 첫째 줄에 볼링공의 개수 N, 공의 최대 무게 M이 공백으로 구분되어 각각 자연수 형태로 주어짐 (${1<= N <= 1,000, 1<= M<=10}$\n",
        "\n",
        "- 둘째 줄에 각 볼링공의 무게 K가 공백으로 구분되어 순서대로 자연수 형태로 주어짐. (${1<=K<M}$)\n",
        "\n",
        "**출력조건**\n",
        "- 첫째 줄에 두 사람이 볼링공을 고르는 경우의 수 출력\n"
      ],
      "metadata": {
        "id": "-JtwinSU-hda"
      }
    },
    {
      "cell_type": "code",
      "source": [
        "# 핵심 IDEA : \n",
        "import time\n",
        "from itertools import combinations\n",
        "\n",
        "# 정수 N, M 입력\n",
        "n,m = map(int,input().split())\n",
        "#print(n, m)\n",
        "\n",
        "# 볼링공의 무게 입력받기\n",
        "array = list(map(int, input().split()))\n",
        "#print(array)\n",
        "\n",
        "# 시작시간\n",
        "start = time.time()\n",
        "\n",
        "# 새로운 리스트에 (번호, 무게) 로 저장\n",
        "new_array = []\n",
        "for i in range(1,n+1):\n",
        "  new_array.append((i,array[i-1]))\n",
        "\n",
        "#print(new_array)\n",
        "combinations_array = list(combinations(new_array, 2))\n",
        "#print(combinations_array)\n",
        "\n",
        "\n",
        "for comb in combinations_array:\n",
        "  # 만약 a가 고른 볼링공과 b가 고른 볼링공의 무게가 같다면 해당 요소를 삭제\n",
        "  if comb[0][1] == comb[1][1]:\n",
        "    combinations_array.remove(comb)\n",
        "\n",
        "#print(combinations_array)\n",
        "print(len(combinations_array))\n",
        "\n",
        "\n",
        "# 종료시간\n",
        "print(\"time :\", (time.time() - start)*1000)  # 현재시각 - 시작시간 = 실행 시간\n"
      ],
      "metadata": {
        "colab": {
          "base_uri": "https://localhost:8080/"
        },
        "outputId": "56996fc2-ee52-4054-c7bf-7b4fc4e52f82",
        "id": "ZNgojDn3-hd4"
      },
      "execution_count": null,
      "outputs": [
        {
          "output_type": "stream",
          "name": "stdout",
          "text": [
            "8 5\n",
            "1 5 4 3 2 4 5 2\n",
            "25\n",
            "time : 1.18255615234375\n"
          ]
        }
      ]
    },
    {
      "cell_type": "code",
      "source": [
        "# 정답코드\n",
        "import time\n",
        "\n",
        "n, m = map(int, input().split())\n",
        "data = list(map(int, input().split()))\n",
        "\n",
        "# 시작시간\n",
        "start = time.time()\n",
        "\n",
        "# 1부터 10까지의 무게를 담을 수 있는 리스트\n",
        "array = [0] * 11\n",
        "\n",
        "for x in data:\n",
        "    # 각 무게에 해당하는 볼링공의 개수 카운트\n",
        "    array[x] += 1\n",
        "\n",
        "print(f\"array[x] : {array[x]}\")\n",
        "\n",
        "result = 0\n",
        "# 1부터 m까지의 각 무게에 대하여 처리\n",
        "for i in range(1, m + 1):\n",
        "    n -= array[i] # 무게가 i인 볼링공의 개수(A가 선택할 수 있는 개수) 제외\n",
        "    result += array[i] * n # B가 선택하는 경우의 수와 곱해주기\n",
        "    print(f\"i : {i}, n : {n}, array[{i}] : {array[i]}, result : {result}\")\n",
        "\n",
        "print(result)\n",
        "# 종료시간\n",
        "print(\"time :\", (time.time() - start)*1000)  # 현재시각 - 시작시간 = 실행 시간\n"
      ],
      "metadata": {
        "colab": {
          "base_uri": "https://localhost:8080/"
        },
        "outputId": "f5193199-1575-4b8d-aa11-aafcf48d8413",
        "id": "phpfOiua-hd8"
      },
      "execution_count": null,
      "outputs": [
        {
          "output_type": "stream",
          "name": "stdout",
          "text": [
            "5 3\n",
            "1 3 2 3 2\n",
            "array[x] : 2\n",
            "i : 1, n : 4, array[1] : 1, result : 4\n",
            "i : 2, n : 2, array[2] : 2, result : 8\n",
            "i : 3, n : 0, array[3] : 2, result : 8\n",
            "8\n",
            "time : 1.3954639434814453\n"
          ]
        }
      ]
    },
    {
      "cell_type": "markdown",
      "source": [
        "## 정답과 비교 및 개선\n",
        "\n",
        "- 정답코드와 접근법이 다름.\n",
        "\n",
        "- combination을 사용해서 그런지 시간이 조금 더 오래걸리는 것 같음."
      ],
      "metadata": {
        "id": "rir9UZWy-hd-"
      }
    }
  ]
}