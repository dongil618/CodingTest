{
  "nbformat": 4,
  "nbformat_minor": 0,
  "metadata": {
    "colab": {
      "name": "이코테_Chapter11_Greedy.ipynb",
      "provenance": [],
      "collapsed_sections": [],
      "authorship_tag": "ABX9TyMM2jtPCIlpDS8YOrAM4glb",
      "include_colab_link": true
    },
    "kernelspec": {
      "name": "python3",
      "display_name": "Python 3"
    },
    "language_info": {
      "name": "python"
    }
  },
  "cells": [
    {
      "cell_type": "markdown",
      "metadata": {
        "id": "view-in-github",
        "colab_type": "text"
      },
      "source": [
        "<a href=\"https://colab.research.google.com/github/dongil618/CodingTest/blob/main/%EC%9D%B4%EC%BD%94%ED%85%8C_Chapter11_Greedy.ipynb\" target=\"_parent\"><img src=\"https://colab.research.google.com/assets/colab-badge.svg\" alt=\"Open In Colab\"/></a>"
      ]
    },
    {
      "cell_type": "markdown",
      "source": [
        "# [Q 01] 모험가 길드\n",
        "이탤릭체 텍스트\n",
        "**난이도** ⚫⚪⚪ | **풀이시간** 30분 | **시간제한** 1초 | **메모리 제한** 128MB | **기출** 핵심유형\n",
        "\n",
        "\n",
        "- 한 마을에 모험가 N명\n",
        "\n",
        "- 모험가를 대상으로 공포도 측정, 공포도가 높은 모험가는 쉽게 공포를 느껴 위험 상황에서 제대로 대처할 능력이 떨어짐.\n",
        "\n",
        "- 모험가 길드장은 모험가 그룹을 안전하게 구성하고자 공포도가 X인 모험가는 반드시 X명 이상으로 구성한 모험가 그룹에 참여해야 여행을 떠날 수 있도록 규정.\n",
        "\n",
        "- 최대 몇개의 모험가 그룹을 만들 수 있을까\n",
        "\n",
        "- N명의 모험가에 대한 정보가 주어졌을 때, 여행을 떠날 수 있는 그룹 수의 최댓값을 구하기\n",
        "\n",
        "- ex) N = 5이고 공포도 [2, 3, 1, 2, 2] 그룹1에 공포도가 1,2,3인 모험가를 한 명 씩 넣고 ,그룹 2에 공포도가 2인 남은 두 명을 넣게 되면, 총 2개의 그룹을 만들 수 있음. 또한 몇 명의 모험가는 마을에 그대로 남아 있어도 되기 때문에, 모든 모험가를 특정한 그룹에 넣을 필요는 없음.\n",
        "\n",
        "**입력조건**\n",
        "- 첫 번째 줄에 모험가의 수 N이 주어짐 (${ 1<= N <= 100,000}$)\n",
        "\n",
        "- 두 번째 줄에 각 모험가의 공포도의 값을 N이하의 자연수로 주어지며, 각 자연수는 공백으로 구분\n",
        "\n",
        "**출력조건**\n",
        "- 여행을 떠날 수 있는 그룹수의 최댓값 출력\n"
      ],
      "metadata": {
        "id": "JloX1vUP8IxC"
      }
    },
    {
      "cell_type": "code",
      "source": [
        "# 모험가 수\n",
        "n = int(input())\n",
        "\n",
        "# 얼음 틀 입력\n",
        "fear = list(map(int, input().split()))\n",
        "fear.sort()\n",
        "print(fear)\n",
        "print(\"----------\")\n",
        "count = 0\n",
        "\n",
        "while True:\n",
        "  for i in fear:\n",
        "    print(f\"for문 시작 fear : {fear2 }\")\n",
        "    max_fear = max(fear[:i])\n",
        "    print(f\"i : {i}, len(fear) : {len(fear)}, max_fear : {max_fear}\")\n",
        "    if max_fear <= len(fear):\n",
        "      for j in range(i):\n",
        "        del fear[0]\n",
        "      print(fear)\n",
        "      count +=1\n",
        "    else:\n",
        "      break\n",
        "  break\n",
        "\n",
        "print(count)"
      ],
      "metadata": {
        "colab": {
          "base_uri": "https://localhost:8080/"
        },
        "id": "mCBpG18JOvlD",
        "outputId": "e4a1d765-7bac-42cf-a8da-a32c37e1a396"
      },
      "execution_count": null,
      "outputs": [
        {
          "output_type": "stream",
          "name": "stdout",
          "text": [
            "5\n",
            "2 3 1 2 2\n",
            "[1, 2, 2, 2, 3]\n",
            "----------\n",
            "for문 시작 fear : [1, 2, 2, 2, 3]\n",
            "i : 1, len(fear) : 5, max_fear : 1\n",
            "[2, 2, 2, 3]\n",
            "for문 시작 fear : [2, 2, 2, 3]\n",
            "i : 2, len(fear) : 4, max_fear : 2\n",
            "[2, 3]\n",
            "2\n"
          ]
        }
      ]
    },
    {
      "cell_type": "code",
      "source": [
        "# 정답코드\n",
        "\n",
        "n = int(input())\n",
        "data = list(map(int, input().split()))\n",
        "data.sort()\n",
        "\n",
        "result = 0 # 총 그룹의 수\n",
        "count = 0 # 현재 그룹에 포함된 모험가의 수\n",
        "\n",
        "for i in data: # 공포도를 낮은 것부터 하나씩 확인하며\n",
        "    count += 1 # 현재 그룹에 해당 모험가를 포함시키기\n",
        "    print(f\"for문 첫 count += 1 후 count : {count}, i : {i}\")\n",
        "    if count >= i: # 현재 그룹에 포함된 모험가의 수가 현재의 공포도 이상이라면, 그룹 결성\n",
        "        result += 1 # 총 그룹의 수 증가시키기\n",
        "        print(f\"if문 result += 1 후 result : {result}\")\n",
        "        count = 0 # 현재 그룹에 포함된 모험가의 수 초기화\n",
        "\n",
        "print(result) # 총 그룹의 수 출력"
      ],
      "metadata": {
        "colab": {
          "base_uri": "https://localhost:8080/"
        },
        "id": "3Bp7RTmlae6z",
        "outputId": "aae7e267-a9df-4e26-b25b-83c6c203de66"
      },
      "execution_count": 3,
      "outputs": [
        {
          "output_type": "stream",
          "name": "stdout",
          "text": [
            "5\n",
            "2 3 1 2 2\n",
            "for문 첫 count += 1 후 count : 1, i : 1\n",
            "if문 result += 1 후 result : 1\n",
            "for문 첫 count += 1 후 count : 1, i : 2\n",
            "for문 첫 count += 1 후 count : 2, i : 2\n",
            "if문 result += 1 후 result : 2\n",
            "for문 첫 count += 1 후 count : 1, i : 2\n",
            "for문 첫 count += 1 후 count : 2, i : 3\n",
            "2\n"
          ]
        }
      ]
    },
    {
      "cell_type": "markdown",
      "source": [
        "## 정답과 비교 및 개선\n",
        "\n",
        "- 문제풀이 접근은 잘 접근했음.\n",
        "\n",
        "- 정답코드에서는 현재 그룹에 포험된 모험가 수를 카운팅하는 변수를 생성해서 마지막에 현재 그룹에 포함된 모험가의 수를 초기화 하는 방식이었고 나는 그룹이 만들어진 요소를 삭제하는 방식으로 했는데 기존 데이터를 삭제하는 방식이 조금 잘못되었다는 생각이 들었음."
      ],
      "metadata": {
        "id": "LEHYOhVueJg8"
      }
    },
    {
      "cell_type": "markdown",
      "source": [
        "# [Q 02] 곱하기 혹은 더하기\n",
        "**난이도** ⚫⚪⚪ | **풀이시간** 30분 | **시간제한** 1초 | **메모리 제한** 128MB | **기출** Facebook 인터뷰\n",
        "\n",
        "\n",
        "- 각 자리가 숫자(0부터 9)로만 이루어진 문자열 S가 주어졌을 때, 왼쪽부터 오른쪽으로 하나씩 모든 숫자를 확인하며 숫자 사이에 'X', 혹은 '+'연산자를 넣어 결과적으로 만들어질 수 있는 가장 큰 수를 구하는 프로그램 작성\n",
        "\n",
        "- 단, +보다 X를 먼저 계산하는 일반적인 방식과 달리, 모든 연산은 왼쪽에서부터 순서대로 이루어진다고 가정\n",
        "\n",
        "- ex) 02984라는 문자열이 주어지면, 만들어질 수 있는 가장 큰 수는 ${ ((((0+2) * 9)*8)*4) = 576 }$\n",
        "\n",
        "- 만들어질 수 있는 가장 큰 수는 항상 20억 이하의 정수가 되도록 입력이 주어짐.\n",
        "\n",
        "**입력조건**\n",
        "- 첫 번째 줄에 여러개의 숫자로 구성된 하나의 문자열 S가 주어짐 (${ 1<= S의 길이 <= 20}$)\n",
        "\n",
        "**출력조건**\n",
        "- 첫째 줄에 만들어질 수 있는 가장 큰 수 출력\n"
      ],
      "metadata": {
        "id": "0hvAjrWuuzAI"
      }
    },
    {
      "cell_type": "code",
      "source": [
        "# 핵심 IDEA : 0이나 1이면 더하기를 해야 최댓값, 그 이외의 숫자는 곱하기를 해야 최댓값 / 젤 앞에 0이 나왔을 경우 예외처리를 해줘야 함.  or \n",
        "\n",
        "# 문자열 S입력\n",
        "s_array = list(input())\n",
        "print(s_array)\n",
        "\n",
        "# result 0으로 초기화 => 문자열 첫번째로 초기화\n",
        "result = int(s_array[0])\n",
        "\n",
        "# 각 문자열 확인 후에 0과1일때는 더하기 이외의 숫자는 곱하기 할 것\n",
        "for s in s_array:\n",
        "  # 0은 더해줘도 의미 없기 때문에 그냥 넘어가기\n",
        "  if s == \"0\":\n",
        "    continue\n",
        "  # s가 1일때 1 더해주기\n",
        "  elif s == \"1\":\n",
        "    result += int(s)\n",
        "  else:\n",
        "    # 처음 result 0으로 초기화해주었기 때문에 만약 첫번째가 0이면 0에서 곱하면 0이기 때문에 이를 방지해주기 위해 1로 초기화\n",
        "    if result == 0:\n",
        "      result = 1\n",
        "    result *= int(s)\n",
        "\n",
        "print(result)"
      ],
      "metadata": {
        "id": "yV640V0UuzAe"
      },
      "execution_count": null,
      "outputs": []
    },
    {
      "cell_type": "code",
      "source": [
        "# 정답코드\n",
        "\n",
        "data = input()\n",
        "\n",
        "# 첫 번째 문자를 숫자로 변경하여 대입\n",
        "result = int(data[0])\n",
        "print(result)\n",
        "\n",
        "for i in range(1, len(data)):\n",
        "    # 두 수 중에서 하나라도 '0' 혹은 '1'인 경우, 곱하기보다는 더하기 수행\n",
        "    num = int(data[i])\n",
        "    print(f\"num : {num}, result : {result}\")\n",
        "    if num <= 1 or result <= 1:\n",
        "        result += num\n",
        "    else:\n",
        "        result *= num\n",
        "    print(\"-------------\")\n",
        "\n",
        "print(result)"
      ],
      "metadata": {
        "id": "kiYNeJViuzAi"
      },
      "execution_count": null,
      "outputs": []
    },
    {
      "cell_type": "markdown",
      "source": [
        "## 정답과 비교 및 개선\n",
        "\n",
        "- 문제풀이 접근은 잘 접근했음.\n",
        "\n",
        "- 정답코드와 틀린답이 나온걸 봐서는 내코드에 오류가 있음. 확실히 정답코드가 더욱 간결하고 깔끔함.\n",
        "\n",
        "- result를 0으로 초기화를 하는것이 아니라 문자열에서 가장 첫 번째 원소로 초기화를 했었어야함.\n",
        "\n",
        "- s == 0 or s == 1보다는 s <= 1로 하는 것이 더욱 간결한 코드인 것 같음."
      ],
      "metadata": {
        "id": "bB1dWi-YuzAj"
      }
    },
    {
      "cell_type": "markdown",
      "source": [
        "# [Q 03] 문자열 뒤집기\n",
        "**난이도** ⚫⚪⚪ | **풀이시간** 20분 | **시간제한** 2초 | **메모리 제한** 128MB | **기출** 핵심유형\n",
        "\n",
        "\n",
        "- 0과 1로만 이루어진 문자열 S\n",
        "\n",
        "- 문자열 S에 있는 모든 숫자를 전부 같기 만들려고 함.\n",
        "\n",
        "- 할 수 있는 행동은 S에서 연속된 하나 이상의 숫자를 잡고 모두 뒤집는 것\n",
        "\n",
        "- 뒤집는 것은 1을 0으로, 0을 1로 바꾸는 것을 의미\n",
        "\n",
        "- ex) S = 0001100 일때,\n",
        "  1. 전체를 뒤집으면 1110011이 됨\n",
        "  2. 4번째 문자부터 5번째 문자까지 뒤집으면 1111111이 되어서 두 번만에 모두 같은 숫자로 만들 수 있음.\n",
        "\n",
        "- 하지만, 처음부터 4번째 5번째 문자까지 문자를 뒤집으면 한 번에 0000000이 되어서 1번만에 모두 같은 숫자로 만들 수 있음. \n",
        "\n",
        "**입력조건**\n",
        "- 첫째 줄에 0과 1로만 이루어진 문자열 S가 주어짐, S의 길이는 100만보다 작음\n",
        "\n",
        "**출력조건**\n",
        "- 첫째 줄에 다솜이가 해야하는 행동의 최소 횟수 출력\n"
      ],
      "metadata": {
        "id": "mvKgSyy18z9n"
      }
    },
    {
      "cell_type": "code",
      "source": [
        "# 핵심 IDEA : 0의 그룹과 1의 그룹을 몇 개인지 나눠서 그룹의 수가 적은 것 만큼을 변경\n",
        "\n",
        "# 문자열 S입력\n",
        "s_array = list(input())\n",
        "#print(s_array)\n",
        "\n",
        "result = 0\n",
        "\n",
        "# 0의 그룹과 1의 그룹 카운팅\n",
        "group_0 = 0\n",
        "group_1 = 0\n",
        "\n",
        "# 연속성을 카운팅하기 위해 count 변수\n",
        "sequence = False\n",
        "\n",
        "# 첫번째 원소에 대한 처리\n",
        "before_ele = s_array[0]\n",
        "if before_ele == \"0\":\n",
        "  group_0 += 1\n",
        "elif s_array[i] == \"1\":\n",
        "  group_1 += 1\n",
        "\n",
        "for i in range(1,len(s_array)):\n",
        "  if s_array[i] == before_ele:\n",
        "    #sequence = True\n",
        "    before_ele = s_array[i]\n",
        "    #print(f\"s_array[{i}] == before_ele일때 sequence : {sequence}, before_ele : {s_array[i]}\")\n",
        "  else:\n",
        "    #sequence = False\n",
        "    if s_array[i] == \"0\":\n",
        "      group_0 +=1\n",
        "    elif s_array[i] == \"1\":\n",
        "      group_1 += 1\n",
        "    before_ele = s_array[i]\n",
        "    #print(f\"s_array[{i}] != before_ele일때 sequence : {sequence}, before_ele : {s_array[i]}, group_0 : {group_0}, group_1 : {group_1}\")\n",
        "\n",
        "  \n",
        "if group_0 > group_1 :\n",
        "  result = group_1\n",
        "else:\n",
        "  result = group_0\n",
        "\n",
        "print(result)\n"
      ],
      "metadata": {
        "colab": {
          "base_uri": "https://localhost:8080/"
        },
        "outputId": "8ea4a774-99e2-433c-9068-6416df9fc3da",
        "id": "wg4ElrVZ8z9t"
      },
      "execution_count": 23,
      "outputs": [
        {
          "output_type": "stream",
          "name": "stdout",
          "text": [
            "0010100101110001110100010111\n",
            "8\n"
          ]
        }
      ]
    },
    {
      "cell_type": "code",
      "source": [
        "# 정답코드\n",
        "\n",
        "data = input()\n",
        "count0 = 0 # 전부 0으로 바꾸는 경우\n",
        "count1 = 0 # 전부 1로 바꾸는 경우\n",
        "\n",
        "# 첫 번째 원소에 대해서 처리\n",
        "if data[0] == '1':\n",
        "    count0 += 1\n",
        "else:\n",
        "    count1 += 1\n",
        "\n",
        "# 두 번째 원소부터 모든 원소를 확인하며\n",
        "for i in range(len(data) - 1):\n",
        "    if data[i] != data[i + 1]:\n",
        "        # 다음 수에서 1로 바뀌는 경우\n",
        "        if data[i + 1] == '1':\n",
        "            count0 += 1\n",
        "        # 다음 수에서 0으로 바뀌는 경우\n",
        "        else:\n",
        "            count1 += 1\n",
        "\n",
        "print(min(count0, count1))"
      ],
      "metadata": {
        "colab": {
          "base_uri": "https://localhost:8080/"
        },
        "outputId": "32c57055-a7d7-4065-e6d3-45d922c8c9fb",
        "id": "SrUuqQsq8z9v"
      },
      "execution_count": 20,
      "outputs": [
        {
          "output_type": "stream",
          "name": "stdout",
          "text": [
            "0010100101110001110100010111\n",
            "8\n"
          ]
        }
      ]
    },
    {
      "cell_type": "markdown",
      "source": [
        "## 정답과 비교 및 개선\n",
        "\n",
        "- 문제풀이 접근은 잘 접근했음.\n",
        "\n",
        "- sequence 라는 변수를 전혀 사용하고 있지 않음 => 삭제해도 될 거 같음.\n",
        "\n",
        "- 나는 이전의 원소와 비교하는 것을 기준으로 잡았는데 정답코드에서는 다음 원소를 기준으로 잡아서 다른 변수 대신 그냥 기존 리스트에서 i+1로 나타냄으로써 더욱 간결하게 나타냈음.\n",
        "\n",
        "- 나도 다음 원소를 기준으로 잡았다면 for문의 첫 if문은 굳이 필요가 없어질듯하다."
      ],
      "metadata": {
        "id": "u5G0jg8U8z9w"
      }
    },
    {
      "cell_type": "markdown",
      "source": [
        "# [Q 04] 만들 수 없는 금액\n",
        "**난이도** ⚫⚪⚪ | **풀이시간** 30분 | **시간제한** 1초 | **메모리 제한** 128MB | **기출** K 대회 기출\n",
        "\n",
        "\n",
        "- N개의 동전, 이때 N개의 동전을 이용해 만들 수 없는 양의 정수 금액 중 최솟값을 구하는 프로그램\n",
        "\n",
        "- ex) N = 5, 각 동전이 각각 3원, 2원, 1원, 1원, 9원짜리(화폐단위) 동전이라고 가정 => 이때 동빈이가 만들 수 없는 양의 정수 금액 중 최솟값은 8원\n",
        "\n",
        "- ex) N = 3, 각 동전이 각각 3원, 5원, 7원짜리(화폐단위) 동전이라고 가정 => 이때 동빈이가 만들 수 없는 양의 정수 금액 중 최솟값은 1원\n",
        "\n",
        "**입력조건**\n",
        "- 첫째 줄에 동정의 개수를 나타내는 양의 정소 N이 주어짐 (${1<= N <= 1,000}$\n",
        "\n",
        "- 둘째 줄에는 각 동전의 화폐단위를 나타내는 N개의 자연수 주어짐, 각 자연수는 공백으로 구분. 이때, 각 화폐 단위는 1,000,000 이하의 자연수\n",
        "\n",
        "**출력조건**\n",
        "- 첫째 줄에 주어진 동전들로 만들 수 없는 양의 정수 금액 중 최솟값 출력\n"
      ],
      "metadata": {
        "id": "OSOZaYFCCYhm"
      }
    },
    {
      "cell_type": "code",
      "source": [
        "# 핵심 IDEA : 소수구하는 문제! => 아니다!\n",
        "\n",
        "# 정수 N 입력\n",
        "n = int(input())\n",
        "\n",
        "# 화폐단위 입력받기\n",
        "array = list(map(int, input().split()))\n",
        "print(array)\n",
        "\n",
        "for i in range(max(array)):\n",
        "  print(a)\n",
        "\n"
      ],
      "metadata": {
        "colab": {
          "base_uri": "https://localhost:8080/"
        },
        "outputId": "4e0fb3b3-268b-48e6-8681-d0968e8400dc",
        "id": "DVRIJmgoCYiC"
      },
      "execution_count": 39,
      "outputs": [
        {
          "output_type": "stream",
          "name": "stdout",
          "text": [
            "5\n",
            "3 2 1 1 9\n",
            "[3, 2, 1, 1, 9]\n",
            "9\n",
            "1\n",
            "2\n",
            "3\n",
            "9\n"
          ]
        }
      ]
    },
    {
      "cell_type": "code",
      "source": [
        "# 정답코드\n",
        "\n",
        "n = int(input())\n",
        "data = list(map(int, input().split()))\n",
        "data.sort()\n",
        "\n",
        "target = 1\n",
        "for x in data:\n",
        "    # 만들 수 없는 금액을 찾았을 때 반복 종료\n",
        "    if target < x:\n",
        "        break\n",
        "    target += x\n",
        "\n",
        "# 만들 수 없는 금액 출력\n",
        "print(target)"
      ],
      "metadata": {
        "colab": {
          "base_uri": "https://localhost:8080/"
        },
        "outputId": "ed7cd483-350d-40ec-df0a-654f78437d81",
        "id": "HBxP9hrvCYiE"
      },
      "execution_count": 40,
      "outputs": [
        {
          "output_type": "stream",
          "name": "stdout",
          "text": [
            "5\n",
            "3 2 1 1 9\n",
            "8\n"
          ]
        }
      ]
    },
    {
      "cell_type": "markdown",
      "source": [
        "## 정답과 비교 및 개선\n",
        "\n",
        "- 문제풀이 접근 자체가 잘못됐음. 처음에 소수 알고리즘을 통해 구하는것으로 접근했고 이후에는 리스트 내의 가장 큰 수까지 반복문을 돌리면서 만들수있는 화폐를 비교하려고 했는데 만들수있는 화폐를 어떻게 다 구하는 것인가에서 막혔음.\n",
        "\n",
        "- 정답코드를 보니 정렬과 target에 1을 초기화하고 target에 정렬된 리스트 내부의 요소를 하나씩 더해주는 것이 핵심인 것 같음. 이 핵심 아이디어를 떠올리는 것이 참 어려움."
      ],
      "metadata": {
        "id": "-4RulyKnCYiE"
      }
    },
    {
      "cell_type": "markdown",
      "source": [
        "# [Q 05] 볼링공 고르기\n",
        "**난이도** ⚫⚪⚪ | **풀이시간** 30분 | **시간제한** 1초 | **메모리 제한** 128MB | **기출** 2019 SW 마에스트로 입학 테스트\n",
        "\n",
        "\n",
        "- 볼링공 N개 있으며 각 볼링공마다 무게가 적혀있고, 공의 번호는 1번부터 순서대로 부여됨.\n",
        "\n",
        "- 같은 무게의 공이 여러 개 있을 수 있지만, 서로 다른 공으로 간주\n",
        "\n",
        "- 볼링공의 무게는 1부터 M까지 자연수 형태로 존재\n",
        "\n",
        "- ex) N = 5, M = 3 각각의 무개가 차례대로 1, 3, 2, 3, 2일때 각 공의 번호가 차례대로 1번부터 5번까지 부여. 이 때 두 사람이 고를 수 있는 볼링공 번호의 조합을 구혀면 다음과 같음.\n",
        "(1번, 2번), (1번, 3번), (1번, 4번), (1번, 5번), (2번, 3번), (2번, 5번), (3번, 4번), (4번, 5번) => 8가지\n",
        "\n",
        "- N개의 공의 무게가 각각 주어질 때, 두 사람이 볼링공을 고르는 경우의 수를 구하는 프로그램\n",
        "\n",
        "**입력조건**\n",
        "- 첫째 줄에 볼링공의 개수 N, 공의 최대 무게 M이 공백으로 구분되어 각각 자연수 형태로 주어짐 (${1<= N <= 1,000, 1<= M<=10}$\n",
        "\n",
        "- 둘째 줄에 각 볼링공의 무게 K가 공백으로 구분되어 순서대로 자연수 형태로 주어짐. (${1<=K<M}$)\n",
        "\n",
        "**출력조건**\n",
        "- 첫째 줄에 두 사람이 볼링공을 고르는 경우의 수 출력\n"
      ],
      "metadata": {
        "id": "4Vw1bUgoe5BQ"
      }
    },
    {
      "cell_type": "code",
      "source": [
        "# 핵심 IDEA : \n",
        "import time\n",
        "from itertools import combinations\n",
        "\n",
        "# 정수 N, M 입력\n",
        "n,m = map(int,input().split())\n",
        "#print(n, m)\n",
        "\n",
        "# 볼링공의 무게 입력받기\n",
        "array = list(map(int, input().split()))\n",
        "#print(array)\n",
        "\n",
        "# 시작시간\n",
        "start = time.time()\n",
        "\n",
        "# 새로운 리스트에 (번호, 무게) 로 저장\n",
        "new_array = []\n",
        "for i in range(1,n+1):\n",
        "  new_array.append((i,array[i-1]))\n",
        "\n",
        "#print(new_array)\n",
        "combinations_array = list(combinations(new_array, 2))\n",
        "#print(combinations_array)\n",
        "\n",
        "\n",
        "for comb in combinations_array:\n",
        "  # 만약 a가 고른 볼링공과 b가 고른 볼링공의 무게가 같다면 해당 요소를 삭제\n",
        "  if comb[0][1] == comb[1][1]:\n",
        "    combinations_array.remove(comb)\n",
        "\n",
        "#print(combinations_array)\n",
        "print(len(combinations_array))\n",
        "\n",
        "\n",
        "# 종료시간\n",
        "print(\"time :\", (time.time() - start)*1000)  # 현재시각 - 시작시간 = 실행 시간\n"
      ],
      "metadata": {
        "colab": {
          "base_uri": "https://localhost:8080/"
        },
        "outputId": "56996fc2-ee52-4054-c7bf-7b4fc4e52f82",
        "id": "GdVeMxu4e5BS"
      },
      "execution_count": 51,
      "outputs": [
        {
          "output_type": "stream",
          "name": "stdout",
          "text": [
            "8 5\n",
            "1 5 4 3 2 4 5 2\n",
            "25\n",
            "time : 1.18255615234375\n"
          ]
        }
      ]
    },
    {
      "cell_type": "code",
      "source": [
        "# 정답코드\n",
        "import time\n",
        "\n",
        "n, m = map(int, input().split())\n",
        "data = list(map(int, input().split()))\n",
        "\n",
        "# 시작시간\n",
        "start = time.time()\n",
        "\n",
        "# 1부터 10까지의 무게를 담을 수 있는 리스트\n",
        "array = [0] * 11\n",
        "\n",
        "for x in data:\n",
        "    # 각 무게에 해당하는 볼링공의 개수 카운트\n",
        "    array[x] += 1\n",
        "\n",
        "result = 0\n",
        "# 1부터 m까지의 각 무게에 대하여 처리\n",
        "for i in range(1, m + 1):\n",
        "    n -= array[i] # 무게가 i인 볼링공의 개수(A가 선택할 수 있는 개수) 제외\n",
        "    result += array[i] * n # B가 선택하는 경우의 수와 곱해주기\n",
        "\n",
        "print(result)\n",
        "# 종료시간\n",
        "print(\"time :\", (time.time() - start)*1000)  # 현재시각 - 시작시간 = 실행 시간\n"
      ],
      "metadata": {
        "colab": {
          "base_uri": "https://localhost:8080/"
        },
        "outputId": "8f59924c-bb14-4a97-96e4-6b449bd1d23a",
        "id": "0Sx3sQcSe5BT"
      },
      "execution_count": 50,
      "outputs": [
        {
          "output_type": "stream",
          "name": "stdout",
          "text": [
            "8 5\n",
            "1 5 4 3 2 4 5 2\n",
            "25\n",
            "time : 0.5052089691162109\n"
          ]
        }
      ]
    },
    {
      "cell_type": "markdown",
      "source": [
        "## 정답과 비교 및 개선\n",
        "\n",
        "- 정답코드와 접근법이 다름.\n",
        "\n",
        "- combination을 사용해서 그런지 시간이 조금 더 오래걸리는 것 같음."
      ],
      "metadata": {
        "id": "5gD6Fsuse5BV"
      }
    }
  ]
}