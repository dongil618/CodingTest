{
  "nbformat": 4,
  "nbformat_minor": 0,
  "metadata": {
    "colab": {
      "name": "이코테_Implement_Practical.ipynb",
      "provenance": [],
      "collapsed_sections": [],
      "authorship_tag": "ABX9TyOZ5+NUVV+hmpr7E7wMuQ9t",
      "include_colab_link": true
    },
    "kernelspec": {
      "name": "python3",
      "display_name": "Python 3"
    },
    "language_info": {
      "name": "python"
    }
  },
  "cells": [
    {
      "cell_type": "markdown",
      "metadata": {
        "id": "view-in-github",
        "colab_type": "text"
      },
      "source": [
        "<a href=\"https://colab.research.google.com/github/dongil618/CodingTest/blob/main/%EC%9D%B4%EC%BD%94%ED%85%8C_Implement_Practical.ipynb\" target=\"_parent\"><img src=\"https://colab.research.google.com/assets/colab-badge.svg\" alt=\"Open In Colab\"/></a>"
      ]
    },
    {
      "cell_type": "markdown",
      "source": [
        "\n",
        "# [예제 4-1] 상하좌우\n",
        "이탤릭체 텍스트\n",
        "**난이도** ⚫⚪⚪ | **시간제한** 1초 | **메모리 제한** 120MB\n",
        "\n",
        "\n",
        "- 여행가 N X N 크기 정사각형 공간에 있음.\n",
        "- 공간 크기 : 1 X 1 크기의 정사각형\n",
        "- 가장 왼쪽 위 좌표 (1,1)\n",
        "- 가장 오른쪽 아래 좌표(N,N)\n",
        "- 여행가 A는 상하좌우 방향으로 이동 가능\n",
        "- 시작 좌표는 항상 (1,1)\n",
        "- 계획서에 하나의 줄에 띄어쓰기를 기준으로 L, R, U, D 중 하나의 문자가 반복적으로 적혀 있음.\n",
        "- 여행가 A는 N X N 크기의 정사각형 공간을 벗어나는 움직임은 무시됨. "
      ],
      "metadata": {
        "id": "oCKs0le7nTYt"
      }
    },
    {
      "cell_type": "code",
      "execution_count": null,
      "metadata": {
        "colab": {
          "base_uri": "https://localhost:8080/"
        },
        "id": "52oWohuedQo8",
        "outputId": "a2f2d387-eebf-431a-d677-c1b84987e92d"
      },
      "outputs": [
        {
          "output_type": "stream",
          "name": "stdout",
          "text": [
            "5\n",
            "R R R U D D\n",
            "['R', 'R', 'R', 'U', 'D', 'D']\n",
            "nx : 1, ny : 2\n",
            "nx : 1, ny : 3\n",
            "nx : 1, ny : 4\n",
            "nx : 0, ny : 4\n",
            "공간을 벗어 납니다.\n",
            "nx : 2, ny : 4\n",
            "nx : 3, ny : 4\n",
            "3 4\n"
          ]
        }
      ],
      "source": [
        "# N 입력 받기\n",
        "n = int(input())\n",
        "\n",
        "# 시작좌표\n",
        "x, y = 1, 1\n",
        "\n",
        "# 계획서 입력\n",
        "plans = input().split()\n",
        "print(plans)\n",
        "\n",
        "# L, R, U, D에 따른 이동 방향\n",
        "move_type_steps = {\"L\" : (0,-1), \"R\" : (0, 1), \"U\" : (-1,0), \"D\": (1,0)}\n",
        "\n",
        "# 이동 계획을 하나씩 확인\n",
        "for plan in plans:\n",
        "  # 이동 후 좌표 구하기\n",
        "  dx, dy = move_type_steps[plan]\n",
        "  nx = x + dx\n",
        "  ny = y + dy\n",
        "  print(f\"nx : {nx}, ny : {ny}\")\n",
        "  if nx < 1 or ny < 1 or nx > n or ny > n:\n",
        "    print(\"공간을 벗어 납니다.\")\n",
        "    continue\n",
        "\n",
        "  # 이동 수행\n",
        "  x, y = nx, ny\n",
        "\n",
        "\n",
        "print(x, y)\n",
        "\n",
        "\n",
        "\n"
      ]
    },
    {
      "cell_type": "markdown",
      "source": [
        "# [예제 4-2] 시각\n",
        "이탤릭체 텍스트\n",
        "**난이도** ⚫⚪⚪ | **풀이시간** 15분 | **시간제한** 1초 | **메모리 제한** 120MB\n",
        "\n",
        "\n",
        "- 정수 N이 입력되면 00시 00분 00초부터 N시 59분 59초까지의 모든 시각 중에서 3이 하나라도 포함되는 모든 경우의 수 구하는 프로그램\n",
        "\n",
        "- ex) 00시 00분 03초, 00시 13분 30초는 세어야하는 시각 / 00시 02분 55초, 01시 27분 45초는 3이 하나도 포함되어있지 않기 때문에 세면 안되는 시각\n",
        "\n",
        "**입력조건**\n",
        "- 첫째 줄에 정수 N이 입력 ( ${0 <= N <= 23}$ )\n",
        "\n",
        "\n",
        "**출력조건**\n",
        "- 00시 00분 00초부터 N시 59분 59초 까지의 모든 시각 중에서 3이 하나라도 포함되는 모든 경우의 수 출력\n"
      ],
      "metadata": {
        "id": "3Tyq1RGvh3p8"
      }
    },
    {
      "cell_type": "code",
      "source": [
        "# 시간 입력받기\n",
        "h = int(input())\n",
        "\n",
        "count = 0\n",
        "for i in range(0, h+1):\n",
        "  for j in range(0, 60):\n",
        "    for k in range(0, 60):\n",
        "      if \"3\" in str(i) + str(j) + str(k): \n",
        "        count += 1\n",
        "\n",
        "\n",
        "print(count)"
      ],
      "metadata": {
        "id": "MSSUm0SRlZpu",
        "colab": {
          "base_uri": "https://localhost:8080/"
        },
        "outputId": "0f11b36d-dcf8-43b8-b96b-a56a31afd2fc"
      },
      "execution_count": null,
      "outputs": [
        {
          "output_type": "stream",
          "name": "stdout",
          "text": [
            "5\n",
            "11475\n"
          ]
        }
      ]
    },
    {
      "cell_type": "markdown",
      "source": [
        "# [실전문제] 왕실의 나이트\n",
        "이탤릭체 텍스트\n",
        "**난이도** ⚫⚪⚪ | **풀이시간** 20분 | **시간제한** 1초 | **메모리 제한** 120MB\n",
        "\n",
        "\n",
        "- 8 X 8 좌표 평면 왕실 정원, 나이트 말타고 있음 => L자 형태로만 이동가능\n",
        "\n",
        "- 수평으로 두칸 이동한 뒤 수직으로 한 칸 이동하기\n",
        "\n",
        "- 수직으로 두 칸 이동한 뒤 수평으로 한 칸 이동하기\n",
        "\n",
        "- 나이트의 위치가 주어졌을 때 나이트가 이동할 수 있는 경우의 수 출력\n",
        "\n",
        "- 행 위치 1-8로 표현, 열 위치 a-h로 표현\n",
        "\n",
        "\n",
        "ex) 나이트가 a1에 있을 때 경우의 수\n",
        "\n",
        "- 오른쪽으로 두 칸 이동 후 아래로 한 칸 이동하기 (c2)\n",
        "\n",
        "- 아래로 두 칸 이동 후 오른쪽으로 한 칸 이동하기 (b3)\n",
        "\n",
        "**입력조건**\n",
        "- 8 X 8 좌표 평면상 현재 나이트가 위치한 곳의 좌표를 나타내는 두 문자로 구성된 문자열이 입력\n",
        "\n",
        "\n",
        "**출력조건**\n",
        "- 첫째 줄에 나이트가 이동할 수 있는 경우의 수 출력\n"
      ],
      "metadata": {
        "id": "JloX1vUP8IxC"
      }
    },
    {
      "cell_type": "code",
      "source": [
        "# 나이트 위치 입력받기\n",
        "night_position = input()\n",
        "\n",
        "row = int(night_position[1])\n",
        "column_str = night_position[0]\n",
        "\n",
        "column_trans = {\"a\":1, \"b\":2, \"c\":3, \"d\":4, \"e\":5, \"f\":6, \"g\":7, \"h\":8}\n",
        "column = column_trans[column_str]\n",
        "\n",
        "# 나이트의 현재 좌표\n",
        "x = row  \n",
        "y = column\n",
        "\n",
        "steps = [(-2,1),(-2,-1),(2,-1),(2,1),(1,-2),(1,2),(-1,2),(-1,-2)]\n",
        "\n",
        "count = 0\n",
        "for step in steps:\n",
        "  # 이동거리\n",
        "  dx = step[0]\n",
        "  dy = step[1]\n",
        "  # 이동하는 좌표\n",
        "  nx = x + dx\n",
        "  ny = y + dy\n",
        "  if nx < 1 or ny <1 or nx > 8 or ny > 8 :\n",
        "    continue\n",
        "  count += 1\n",
        "\n",
        "\n",
        "print(count)\n"
      ],
      "metadata": {
        "colab": {
          "base_uri": "https://localhost:8080/"
        },
        "id": "mCBpG18JOvlD",
        "outputId": "4cd74d9f-adcc-42c5-96cc-c547467ea125"
      },
      "execution_count": null,
      "outputs": [
        {
          "output_type": "stream",
          "name": "stdout",
          "text": [
            "c2\n",
            "6\n"
          ]
        }
      ]
    },
    {
      "cell_type": "markdown",
      "source": [
        "## 정답과 비교 및 개선\n",
        "\n",
        "- x = row, y = column 부분은 굳이 없어도 될 부분인 것 같음. 그냥 그대로 row, column을 활용하면 좋을듯 함\n",
        "\n",
        "- a1과 같이 문자열 a를 좌표상으로 바꾸어주는 것을 나는 dict를 사용했는데 정답풀이에서는 ord()함수를 사용했음. 생각지도 못한 것이라 신박했다."
      ],
      "metadata": {
        "id": "LEHYOhVueJg8"
      }
    },
    {
      "cell_type": "code",
      "source": [
        "# 현재 나이트의 위치 입력받기\n",
        "input_data = input()\n",
        "row = int(input_data[1])\n",
        "column = int(ord(input_data[0])) - int(ord('a')) + 1\n",
        "\n",
        "# 나이트가 이동할 수 있는 8가지 방향 정의\n",
        "steps = [(-2, -1), (-1, -2), (1, -2), (2, -1), (2, 1), (1, 2), (-1, 2), (-2, 1)]\n",
        "\n",
        "# 8가지 방향에 대하여 각 위치로 이동이 가능한지 확인\n",
        "result = 0\n",
        "for step in steps:\n",
        "    # 이동하고자 하는 위치 확인\n",
        "    next_row = row + step[0]\n",
        "    next_column = column + step[1]\n",
        "    # 해당 위치로 이동이 가능하다면 카운트 증가\n",
        "    if next_row >= 1 and next_row <= 8 and next_column >= 1 and next_column <= 8:\n",
        "        result += 1\n",
        "\n",
        "print(result)"
      ],
      "metadata": {
        "colab": {
          "base_uri": "https://localhost:8080/"
        },
        "id": "3Bp7RTmlae6z",
        "outputId": "0dcc244c-62d7-4a6d-f274-94db5c34aca6"
      },
      "execution_count": null,
      "outputs": [
        {
          "output_type": "stream",
          "name": "stdout",
          "text": [
            "a1\n",
            "2\n"
          ]
        }
      ]
    },
    {
      "cell_type": "code",
      "source": [
        "print(ord(\"b\")-ord(\"a\")+1)"
      ],
      "metadata": {
        "colab": {
          "base_uri": "https://localhost:8080/"
        },
        "id": "n34g2dZj7XcW",
        "outputId": "fbe3b70e-3acf-4661-d4fe-8f84a02c86ee"
      },
      "execution_count": null,
      "outputs": [
        {
          "output_type": "stream",
          "name": "stdout",
          "text": [
            "2\n"
          ]
        }
      ]
    },
    {
      "cell_type": "markdown",
      "source": [
        "# [실전문제] 게 개발\n",
        "이탤릭체 텍스트\n",
        "**난이도** ⚫⚫⚪ | **풀이시간** 40분 | **시간제한** 1초 | **메모리 제한** 120MB\n",
        "\n",
        "\n",
        "- 1 X 1크기의 캐릭터 장소, N X M 크기의 정사각형, 각각의 칸은 육지 또는 바다\n",
        "\n",
        "- 바다로 되어 있는 공간에는 갈 수 없음\n",
        "\n",
        "- 캐릭터는 동서남북 중 한 곳을 바라보고 상하좌우로 움직일 수 있음\n",
        "\n",
        "- 맵 각 칸은 (A,B)로 나타낼 수 있음\n",
        "\n",
        "- A는 북쪽으로부터 떨어진 칸의 개수, B는 서쪽으로부터 떨어진 칸의 개수\n",
        "\n",
        "\n",
        "!) 캐릭터 움직임 설정 메뉴얼\n",
        "\n",
        "1. 현재 위치에서 현재 방향을 기준으로 왼쪽 방향(반시계 방향으로 90도 회전한 방향)부터 차례대로 갈 곳을 정함.\n",
        "\n",
        "2. 캐릭터의 바로 왼쪽 방향에 아직 가보지 않은 칸이 존재한다면, 왼쪽 방향으로 회전한 다음 왼쪽으로 한 칸을 전진. 왼쪽 방향에 가보지 않은 칸이 없다면, 왼쪽 방향으로 회전만 수행하고 1단계로 돌아감.\n",
        "\n",
        "3. 만약 네 방향 모두 이미 가본 칸이거나 바다로 되어 있는 칸인 경우에는, 바라보는 방향을 유지한 채로 한 칸 뒤로 가고 1단계로 돌아감. 단, 이때 뒤쪽 방향이 바다인 칸이라 뒤로 갈 수 없는 경우에는 움직임을 멈춤.\n",
        "\n",
        "메뉴얼에 따라 캐릭터를 이동시킨 뒤에, 캐릭터가 방문한 칸의 수를 출력\n",
        "\n",
        "**입력조건**\n",
        "- 세로 크기 N과 가로크기 M을 공백으로 구분하여 입력 ${( 3<= N,M <= 50 )}$\n",
        "- 둘째 줄에 게임 캐릭터가 있는 칸의 좌표 (A,B)와 바라보는 방향 d가 각각 서로 공백으로 구분하여 주어짐. 방향 d의 값으로는 다움과 같이 4가지가 존재.\n",
        "  - 0 : 북쪽\n",
        "  - 1 : 동쪽\n",
        "  - 2 : 남쪽\n",
        "  - 3 : 서쪽\n",
        "\n",
        "- 셋째 줄부터 맵이 육지인지 바다인지에 대한 정보 주어짐. N개의 줄에 맵의 상태가 북쪽부터 남쪽 순서대로, 각 줄의 데이터는 서쪽부터 동쪽 순서대로 주어짐. 맵의 외곽은 항상 바다로 되어 있음.\n",
        "  - 0 : 육지\n",
        "  - 1 : 바다\n",
        "\n",
        "\n",
        "**출력조건**\n",
        "- 첫째 줄에 이동을 마친 후 캐릭터가 방문한 칸의 수를 출력\n"
      ],
      "metadata": {
        "id": "zZWRLGWjOzdc"
      }
    },
    {
      "cell_type": "code",
      "source": [
        "# N, M 입력받기\n",
        "n, m = map(int,input().split())\n",
        "\n",
        "# A, B, 방향 입력받기\n",
        "a, b , direct = map(int,input().split())\n",
        "position = (a,b)\n",
        "visited = [[False] * m for _ in range(n)]\n",
        "# 현재 위치 방문처리\n",
        "visited[a][b] = True\n",
        "print(visited)\n",
        "\n",
        "# 맵 입력 받기\n",
        "game_map = []\n",
        "for i in range(m):\n",
        "  game_map.append(list(map(int, input().split())))\n",
        "print(game_map)\n",
        "# 방향 전환 동(0,1) 1, 서(0,-1) 3, 남(1,0) 2, 북(-1,0) 0\n",
        "steps = {\"0\":(-1, 0), \"1\":(0, 1), \"2\":(1, 0), \"3\":(0, -1)}\n",
        "\n",
        "count = 1\n",
        "turn_time = 0\n",
        "\n",
        "def turn_left():\n",
        "  global direct\n",
        "  direct -= 1\n",
        "  if direct == -1:\n",
        "    direct = 3\n",
        "\n",
        "while True:\n",
        "  # 현재 위치에서 현재 방향을 기준으로 왼쪽 방향부터 차례대로 갈 곳 정하기\n",
        "  turn_left()\n",
        "  dx, dy = steps[str(direct)]\n",
        "  nx = a + dx\n",
        "  ny = b + dy\n",
        "  print(f\"nx : {nx}, ny : {ny}\")\n",
        "\n",
        "  # 회전한 이후 정면에 가보지 않은 칸이 존재하는 경우 이동\n",
        "  if visited[nx][ny] == False and game_map[nx][ny] == 0:\n",
        "    visited[nx][ny] = True\n",
        "    a, b = nx, ny\n",
        "    count+=1\n",
        "    turn_time = 0\n",
        "    print(f\"count : {count}, turn_time : {turn_time}\")\n",
        "    continue\n",
        "  # 회전한 이후 정면에 가보지 않은 칸이 없거나 바다인 경우\n",
        "  else :\n",
        "    turn_time += 1\n",
        "    print(f\"turn_time : {turn_time}\")\n",
        "\n",
        "  # 네방향 모두 가본 칸이거나 바다로 되어 있는 칸인 경우 <= 이부분 구현이 어려움.\n",
        "  if turn_time == 4 :\n",
        "    dx, dy = steps[str(direct)]\n",
        "    nx = a - dx\n",
        "    ny = b - dy\n",
        "    print(f\"turn_time이 4일 때 nx : {nx}, ny : {ny}\")\n",
        "    # 뒤로 갈 수 있다면 이동하기\n",
        "    if game_map[nx][ny] == 0:\n",
        "      a, b = nx, ny\n",
        "      print(f\"a : {a}, b : {b}\")\n",
        "    # 뒤로 바다가 막혀있는 경우\n",
        "    else:\n",
        "      break\n",
        "    turn_time = 0\n",
        "\n",
        "# 정답출력\n",
        "print(count) "
      ],
      "metadata": {
        "colab": {
          "base_uri": "https://localhost:8080/"
        },
        "id": "uxXUK745DbUP",
        "outputId": "45f0b80e-ad65-460a-ea7a-bfdaec72b166"
      },
      "execution_count": null,
      "outputs": [
        {
          "output_type": "stream",
          "name": "stdout",
          "text": [
            "4 4\n",
            "1 1 0\n",
            "[[False, False, False, False], [False, True, False, False], [False, False, False, False], [False, False, False, False]]\n",
            "1 1 1 1\n",
            "1 0 0 1\n",
            "1 1 0 1\n",
            "1 1 1 1\n",
            "[[1, 1, 1, 1], [1, 0, 0, 1], [1, 1, 0, 1], [1, 1, 1, 1]]\n",
            "nx : 1, ny : 0\n",
            "turn_time : 1\n",
            "nx : 2, ny : 1\n",
            "turn_time : 2\n",
            "nx : 1, ny : 2\n",
            "count : 2, turn_time : 0\n",
            "nx : 0, ny : 2\n",
            "turn_time : 1\n",
            "nx : 1, ny : 1\n",
            "turn_time : 2\n",
            "nx : 2, ny : 2\n",
            "count : 3, turn_time : 0\n",
            "nx : 2, ny : 3\n",
            "turn_time : 1\n",
            "nx : 1, ny : 2\n",
            "turn_time : 2\n",
            "nx : 2, ny : 1\n",
            "turn_time : 3\n",
            "nx : 3, ny : 2\n",
            "turn_time : 4\n",
            "turn_time이 4일 때 nx : 1, ny : 2\n",
            "a : 1, b : 2\n",
            "nx : 1, ny : 3\n",
            "turn_time : 1\n",
            "nx : 0, ny : 2\n",
            "turn_time : 2\n",
            "nx : 1, ny : 1\n",
            "turn_time : 3\n",
            "nx : 2, ny : 2\n",
            "turn_time : 4\n",
            "turn_time이 4일 때 nx : 0, ny : 2\n",
            "3\n"
          ]
        }
      ]
    },
    {
      "cell_type": "markdown",
      "source": [
        "## 정답과 비교 및 개선\n",
        "\n",
        "- 현재 좌표 방문처리를 생각하지 못했음.\n",
        "\n",
        "- 네 방향 모두 확인 했다는 것을 turn_time으로 해결할 수 있다는 것을 생각못했음.\n",
        "\n",
        "- while문에서 direct가 갱신되기 위해서는 글로벌 변수를 활용해야하는데 그것을 인지하지 못했음.\n",
        "\n",
        "- list comprehension과 *만 사용했을 때 뭐가 더 빠를까? \n",
        "  - visited = [[False]*n]*m\n",
        "  - d = [[0] * m for _ in range(n)]\n",
        "  - 뭐가 더 빠른것이 중요한게 아니라 틀린 코드였음. 왜 그런진 모르겠지만 갱신할 때 중복적으로 갱신이됨. 아마 주소자체를 복사하는 느낌.\n"
      ],
      "metadata": {
        "id": "H8t5VpLmCyWf"
      }
    },
    {
      "cell_type": "code",
      "source": [
        "# N, M을 공백을 기준으로 구분하여 입력받기\n",
        "n, m = map(int, input().split())\n",
        "\n",
        "# 방문한 위치를 저장하기 위한 맵을 생성하여 0으로 초기화\n",
        "d = [[0] * m for _ in range(n)]\n",
        "# 현재 캐릭터의 X 좌표, Y 좌표, 방향을 입력받기\n",
        "x, y, direction = map(int, input().split())\n",
        "d[x][y] = 1 # 현재 좌표 방문 처리\n",
        "print(d)\n",
        "\n",
        "# 전체 맵 정보를 입력받기\n",
        "array = []\n",
        "for i in range(n):\n",
        "    array.append(list(map(int, input().split())))\n",
        "print(array)\n",
        "# 북, 동, 남, 서 방향 정의\n",
        "dx = [-1, 0, 1, 0]\n",
        "dy = [0, 1, 0, -1]\n",
        "\n",
        "# 왼쪽으로 회전\n",
        "def turn_left():\n",
        "    global direction\n",
        "    direction -= 1\n",
        "    if direction == -1:\n",
        "        direction = 3\n",
        "\n",
        "# 시뮬레이션 시작\n",
        "count = 1\n",
        "turn_time = 0\n",
        "while True:\n",
        "    # 왼쪽으로 회전\n",
        "    turn_left()\n",
        "    nx = x + dx[direction]\n",
        "    ny = y + dy[direction]\n",
        "    print(f\"nx : {nx}, ny : {ny}\")\n",
        "    # 회전한 이후 정면에 가보지 않은 칸이 존재하는 경우 이동\n",
        "    if d[nx][ny] == 0 and array[nx][ny] == 0:\n",
        "        d[nx][ny] = 1\n",
        "        x = nx\n",
        "        y = ny\n",
        "        count += 1\n",
        "        turn_time = 0\n",
        "        print(f\"count : {count}, turn_time : {turn_time}\")\n",
        "        continue\n",
        "    # 회전한 이후 정면에 가보지 않은 칸이 없거나 바다인 경우\n",
        "    else:\n",
        "        turn_time += 1\n",
        "        print(f\"turn_time : {turn_time}\")\n",
        "    # 네 방향 모두 갈 수 없는 경우\n",
        "    if turn_time == 4:\n",
        "        nx = x - dx[direction]\n",
        "        ny = y - dy[direction]\n",
        "        print(f\"turn_time이 4일 때 nx : {nx}, ny : {ny}\")\n",
        "        # 뒤로 갈 수 있다면 이동하기\n",
        "        if array[nx][ny] == 0:\n",
        "            x = nx\n",
        "            y = ny\n",
        "            print(f\"x : {x}, y : {y}\")\n",
        "        # 뒤가 바다로 막혀있는 경우\n",
        "        else:\n",
        "            break\n",
        "        turn_time = 0\n",
        "\n",
        "# 정답 출력\n",
        "print(count)"
      ],
      "metadata": {
        "colab": {
          "base_uri": "https://localhost:8080/"
        },
        "id": "0APhXZNz_-gm",
        "outputId": "b42944ea-57c4-4f5e-efda-b607b2b474be"
      },
      "execution_count": null,
      "outputs": [
        {
          "output_type": "stream",
          "name": "stdout",
          "text": [
            "4 4\n",
            "1 1 0\n",
            "[[0, 0, 0, 0], [0, 1, 0, 0], [0, 0, 0, 0], [0, 0, 0, 0]]\n",
            "1 1 1 1\n",
            "1 0 0 1\n",
            "1 1 0 1\n",
            "1 1 1 1\n",
            "[[1, 1, 1, 1], [1, 0, 0, 1], [1, 1, 0, 1], [1, 1, 1, 1]]\n",
            "nx : 1, ny : 0\n",
            "turn_time : 1\n",
            "nx : 2, ny : 1\n",
            "turn_time : 2\n",
            "nx : 1, ny : 2\n",
            "count : 2, turn_time : 0\n",
            "nx : 0, ny : 2\n",
            "turn_time : 1\n",
            "nx : 1, ny : 1\n",
            "turn_time : 2\n",
            "nx : 2, ny : 2\n",
            "count : 3, turn_time : 0\n",
            "nx : 2, ny : 3\n",
            "turn_time : 1\n",
            "nx : 1, ny : 2\n",
            "turn_time : 2\n",
            "nx : 2, ny : 1\n",
            "turn_time : 3\n",
            "nx : 3, ny : 2\n",
            "turn_time : 4\n",
            "turn_time이 4일 때 nx : 1, ny : 2\n",
            "x : 1, y : 2\n",
            "nx : 1, ny : 3\n",
            "turn_time : 1\n",
            "nx : 0, ny : 2\n",
            "turn_time : 2\n",
            "nx : 1, ny : 1\n",
            "turn_time : 3\n",
            "nx : 2, ny : 2\n",
            "turn_time : 4\n",
            "turn_time이 4일 때 nx : 0, ny : 2\n",
            "3\n"
          ]
        }
      ]
    },
    {
      "cell_type": "code",
      "source": [
        "steps = {\"0\":(0, 1), \"1\":(1, 0), \"2\":(0, -1), \"3\":(-1, 0)}\n",
        "  \n",
        "next_direct = 0\n",
        "\n",
        "next_direct = str(next_direct)\n",
        "\n",
        "dx, dy = steps[next_direct]\n",
        "print(f\"dx : {dx}, dy : {dy}\")"
      ],
      "metadata": {
        "colab": {
          "base_uri": "https://localhost:8080/"
        },
        "id": "4vuSkTh8miJ4",
        "outputId": "67171abe-6a90-4a52-8745-32bdd841e549"
      },
      "execution_count": null,
      "outputs": [
        {
          "output_type": "stream",
          "name": "stdout",
          "text": [
            "dx : 0, dy : 1\n"
          ]
        }
      ]
    },
    {
      "cell_type": "code",
      "source": [
        "# while문 contiune, break 예제\n",
        "\n",
        "count = 0\n",
        "x = 0\n",
        "y = 2\n",
        "\n",
        "while True:\n",
        "  if x == 0:\n",
        "    print(\"x는 0입니다.\")\n",
        "    x += 1\n",
        "    count +=1\n",
        "    print(f\"count : {x}, x : {x}\")\n",
        "    continue\n",
        "  else:\n",
        "    print(\"x는 0이 아닙니다.\")\n",
        "    print(f\"count : {x}, x : {x}\")\n",
        "  if x == 1 and y == 2:\n",
        "    print(\"x는 1이고 y는 2입니다.\")\n",
        "    if count == 1:\n",
        "      print(\"count는 1입니다.\")\n",
        "    else:\n",
        "      print(\"count는 1이 아닙니다.\")\n",
        "      break\n",
        "    count += 1\n",
        "\n"
      ],
      "metadata": {
        "colab": {
          "base_uri": "https://localhost:8080/"
        },
        "id": "uEmavWGHnMKW",
        "outputId": "73e44946-5547-4ecd-e68a-23e9f7d97880"
      },
      "execution_count": null,
      "outputs": [
        {
          "output_type": "stream",
          "name": "stdout",
          "text": [
            "x는 0입니다.\n",
            "count : 1, x : 1\n",
            "x는 0이 아닙니다.\n",
            "count : 1, x : 1\n",
            "x는 1이고 y는 2입니다.\n",
            "count는 1입니다.\n",
            "x는 0이 아닙니다.\n",
            "count : 1, x : 1\n",
            "x는 1이고 y는 2입니다.\n",
            "count는 1이 아닙니다.\n"
          ]
        }
      ]
    }
  ]
}