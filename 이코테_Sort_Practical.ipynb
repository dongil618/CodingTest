{
  "nbformat": 4,
  "nbformat_minor": 0,
  "metadata": {
    "colab": {
      "name": "이코테_Sort_Practical.ipynb",
      "provenance": [],
      "collapsed_sections": [],
      "authorship_tag": "ABX9TyM+H1YAHrveHf7Mn9Z1T0wF",
      "include_colab_link": true
    },
    "kernelspec": {
      "name": "python3",
      "display_name": "Python 3"
    },
    "language_info": {
      "name": "python"
    }
  },
  "cells": [
    {
      "cell_type": "markdown",
      "metadata": {
        "id": "view-in-github",
        "colab_type": "text"
      },
      "source": [
        "<a href=\"https://colab.research.google.com/github/dongil618/CodingTest/blob/main/%EC%9D%B4%EC%BD%94%ED%85%8C_Sort_Practical.ipynb\" target=\"_parent\"><img src=\"https://colab.research.google.com/assets/colab-badge.svg\" alt=\"Open In Colab\"/></a>"
      ]
    },
    {
      "cell_type": "markdown",
      "source": [
        "# [실전문제] 위에서 아래로\n",
        "이탤릭체 텍스트\n",
        "**난이도** ⚫⚪⚪ | **풀이시간** 15분 | **시간제한** 1초 | **메모리 제한** 120MB\n",
        "\n",
        "\n",
        "- 하나의 수열에는 다양한 수 존재, 크기에 상관없이 나열 되어있음.\n",
        "\n",
        "- 큰수부터 작은 수의 순서로 정렬, 내림차순\n",
        "\n",
        "**입력조건**\n",
        "- 첫 번째 줄에 수열이 속해있는 수의 개수 N이 주어짐 ${ 1<= N <= 500}$\n",
        "\n",
        "- 두 번째 줄부터 N+1번째 줄까지 N개의 수가 입력, 수의 범위는 1이상 100,000이하의 자연수\n",
        "\n",
        "**출력조건**\n",
        "- 입력으로 주어진 수열이 내림차순으로 정렬된 결과를 공백으로 구분하여 출력, 동일한 수의 순서는 자유롭게 출력해도 괜찮음.\n"
      ],
      "metadata": {
        "id": "JloX1vUP8IxC"
      }
    },
    {
      "cell_type": "code",
      "source": [
        "# 얼음 틀 크기 입력\n",
        "n = int(input())\n",
        "\n",
        "# 얼음 틀 입력\n",
        "sequences = []\n",
        "for i in range(n):\n",
        "  sequences.append(int(input()))\n",
        "print(sequences)\n",
        "\n",
        "sequences.sort()\n",
        "\n",
        "for sequence in sequences:\n",
        "  print(sequence, end = \" \")"
      ],
      "metadata": {
        "colab": {
          "base_uri": "https://localhost:8080/"
        },
        "id": "mCBpG18JOvlD",
        "outputId": "6d57f67f-169e-4a7f-dc21-157e0eeb20b4"
      },
      "execution_count": null,
      "outputs": [
        {
          "output_type": "stream",
          "name": "stdout",
          "text": [
            "3\n",
            "15\n",
            "27\n",
            "12\n",
            "[15, 27, 12]\n",
            "12 15 27 "
          ]
        }
      ]
    },
    {
      "cell_type": "markdown",
      "source": [
        "# [실전문제] 성적이 낮은 순서로 학생 출력하기\n",
        "이탤릭체 텍스트\n",
        "**난이도** ⚫⚪⚪ | **풀이시간** 20분 | **시간제한** 1초 | **메모리 제한** 120MB | **기출** D 기업 프로그래밍 콘테스트 예선\n",
        "\n",
        "\n",
        "- N명의 학생 정보, 학생의 이름과 학생의 성적으로 구분\n",
        "\n",
        "- 각 학생의 이름과 정보가 주어졌을 때 성적이 낮은 순서대로 학생의 이름을 출력\n",
        "\n",
        "**입력조건**\n",
        "- 첫 번째 줄에 학생의 수 N이 주어짐 ${ 1<= N <= 100,000}$\n",
        "\n",
        "- 두 번째 줄부터 N+1번째 줄에는 학생의 이름을 나타내는 문자열 A와 학생의 성적을 나타내는 정수 B가 공백으로 구분되어 입력됨. 문자열 A의 길이와 학생의 성적은 100이하의 자연수\n",
        "\n",
        "**출력조건**\n",
        "- 모든 학생의 이름을 성적이 낮은 순서대로 출력, 성적이 동일한 학생들의 순서는 자유롭게 출력해도 괜찮음."
      ],
      "metadata": {
        "id": "XeTObcgWmNEo"
      }
    },
    {
      "cell_type": "code",
      "source": [
        "import heapq\n",
        "\n",
        "n = int(input())\n",
        "\n",
        "heap = []\n",
        "\n",
        "for i in range(n):\n",
        "  student, score = input().split()\n",
        "  heapq.heappush(heap, (int(score), student))\n",
        "\n",
        "for j in range(n):\n",
        "  print(heapq.heappop(heap)[1])"
      ],
      "metadata": {
        "colab": {
          "base_uri": "https://localhost:8080/"
        },
        "id": "JwcvbKxCmPeb",
        "outputId": "f81a97c9-544b-45c8-b742-800b2f6cc326"
      },
      "execution_count": 10,
      "outputs": [
        {
          "output_type": "stream",
          "name": "stdout",
          "text": [
            "2\n",
            "홍길동 95\n",
            "이순신 77\n",
            "이순신\n",
            "홍길동\n"
          ]
        }
      ]
    },
    {
      "cell_type": "code",
      "source": [
        "#정답코드\n",
        "\n",
        "# N 입력 받기\n",
        "n = int(input())\n",
        "\n",
        "# N명의 학생 정보를 입력 받아 리스트에 저장\n",
        "array = []\n",
        "for i in range(n):\n",
        "    input_data = input().split()\n",
        "    # 이름은 문자열 그대로, 점수는 정수형으로 변환하여 저장\n",
        "    array.append((input_data[0], int(input_data[1])))\n",
        "\n",
        "# 키(Key)를 이용하여, 점수를 기준으로 정렬\n",
        "array = sorted(array, key=lambda student: student[1])\n",
        "\n",
        "# 정렬이 수행된 결과를 출력\n",
        "for student in array:\n",
        "    print(student[0], end=' ')"
      ],
      "metadata": {
        "id": "ry77ycCUrrbd"
      },
      "execution_count": null,
      "outputs": []
    },
    {
      "cell_type": "markdown",
      "source": [
        "## 정답과 비교 및 개선\n",
        "\n",
        "- 난 heap자료구조 사용\n",
        "\n",
        "- 정답코드는 튜플, 기본 정렬 라이브러리, lambda함수 사용함"
      ],
      "metadata": {
        "id": "LEHYOhVueJg8"
      }
    },
    {
      "cell_type": "markdown",
      "source": [
        "# [실전문제] 두 배열의 원소 교체\n",
        "이탤릭체 텍스트\n",
        "**난이도** ⚫⚪⚪ | **풀이시간** 20분 | **시간제한** 1초 | **메모리 제한** 120MB | **기출** 국제 알고리즘 대회\n",
        "\n",
        "\n",
        "- 두 개의 배열 A, B가 있음. 두 배열은 N개의 원소로 구성되어 있으며, 배열의 원소는 모두 자연수\n",
        "\n",
        "- 최대  K번의 바꿔치기 연산을 수행할 수 있는데, 바꿔치기 연산이란 배열 A에 있는 원소 하나와 배열 B에 있는 원소 하나를 골라서 두 원소를 바꾸는 것을 말함\n",
        "\n",
        "- 최종목표는 배열 A의 모든 원소의 합이 최대가 되도록 하는 것\n",
        "\n",
        "- N, K 그리고 배열 A와 B의 정보가 주어졌을 때, 최대 K번의 바꿔치기 연산을 수행하여 만들 수 이쓴ㄴ 배열 A의 모든 원소의 합이 최댓값을 출력하는 프로그램 작성\n",
        "\n",
        "**입력조건**\n",
        "- 첫 번째 줄 N, K가 공백으로 구분되어 입력 ${ 1<= N <= 100,000, 0 <= K <= N}$\n",
        "\n",
        "- 두 번째 줄에 배열 A의 원소들이 공백으로 구분되어 입력, 모든 원소는 10,000,000보다 작은 자연수\n",
        "\n",
        "- 세 번째 줄에 배열 B의 원소들이 공백으로 구분되어 입력, 모든 원소는 10,000,000보다 작은 자연수\n",
        "\n",
        "\n",
        "**출력조건**\n",
        "- 최대 K번 바꿔치기 연산을 수행하여 만들 수 있는 배열 A의 모든 원소의 합의 최댓값 출력"
      ],
      "metadata": {
        "id": "8GbIo4OkwITt"
      }
    },
    {
      "cell_type": "code",
      "source": [
        "# N,K 입력받기\n",
        "\n",
        "n, k = map(int, input().split())\n",
        "\n",
        "# 배열 A 입력 받기\n",
        "array_A = list(map(int, input().split()))\n",
        "\n",
        "# 배열 B 입력 받기\n",
        "array_B = list(map(int, input().split()))\n",
        "\n",
        "# 배열 정렬하기\n",
        "array_A.sort()\n",
        "array_B.sort(reverse=True)\n",
        "\n",
        "print(f\"n : {n}, k : {k}\")\n",
        "print(f\"배열 A : {array_A}\")\n",
        "print(f\"배열 B : {array_B}\")\n",
        "\n",
        "for i in range(k):\n",
        "  if array_A[i] < array_B[i]:  # 정답코드를 보고 추가해준 코드\n",
        "    array_A[i], array_B[i] = array_B[i], array_A[i]\\\n",
        "  else:   # array_A[i] < array_B[i] 경우가 더이상 존재하지 않을 경우 굳이 k번까지 실행할 필요가 없어짐.\n",
        "    break\n",
        "\n",
        "print(f\"바꿔치기 후 배열 A : {array_A}\")\n",
        "\n",
        "\n",
        "result = 0\n",
        "for i in range(n):\n",
        "  result += array_A[i]\n",
        "\n",
        "print(result)\n",
        "\n",
        "# 문제의 핵심 : A와 B를 정렬을 해서 A에서는 가장 작은값을 B에서는 가장 큰 값을 서로 바꿔치기 해야함."
      ],
      "metadata": {
        "colab": {
          "base_uri": "https://localhost:8080/"
        },
        "id": "goF0L6ZZFp8p",
        "outputId": "dc462094-8dea-4a6e-ebc9-f8e1b9117206"
      },
      "execution_count": 7,
      "outputs": [
        {
          "output_type": "stream",
          "name": "stdout",
          "text": [
            "5 3\n",
            "1 2 5 4 3\n",
            "5 5 6 6 5\n",
            "n : 5, k : 3\n",
            "배열 A : [1, 2, 3, 4, 5]\n",
            "배열 B : [6, 6, 5, 5, 5]\n",
            "바꿔치기 후 배열 A : [6, 6, 5, 4, 5]\n",
            "26\n"
          ]
        }
      ]
    },
    {
      "cell_type": "code",
      "source": [
        "# 정답코드\n",
        "n, k = map(int, input().split()) # N과 K를 입력 받기\n",
        "a = list(map(int, input().split())) # 배열 A의 모든 원소를 입력받기\n",
        "b = list(map(int, input().split())) # 배열 B의 모든 원소를 입력받기\n",
        "\n",
        "a.sort() # 배열 A는 오름차순 정렬 수행\n",
        "b.sort(reverse=True) # 배열 B는 내림차순 정렬 수행\n",
        "\n",
        "# 첫 번째 인덱스부터 확인하며, 두 배열의 원소를 최대 K번 비교\n",
        "for i in range(k):\n",
        "    # A의 원소가 B의 원소보다 작은 경우\n",
        "    if a[i] < b[i]:\n",
        "        # 두 원소를 교체\n",
        "        a[i], b[i] = b[i], a[i]\n",
        "    else: # A의 원소가 B의 원소보다 크거나 같을 때, 반복문을 탈출\n",
        "        break\n",
        "\n",
        "print(sum(a)) # 배열 A의 모든 원소의 합을 출력"
      ],
      "metadata": {
        "id": "QKTW1IEdH4S5"
      },
      "execution_count": null,
      "outputs": []
    },
    {
      "cell_type": "markdown",
      "source": [
        "## 정답과 비교 및 개선\n",
        "\n",
        "- 나는 array_A[i]는 오름차순 정렬하고 array_B[i]는 내림차순 정렬을 했을 때 무조건 array_A[i] < array_B[i]라는 생각을 가졌던 것 같다. 실제 정답코드를 보니 내가 잘못 생각했다는 것을 알게되었다. 그래서 추가적으로 if문을 추가했다.\n",
        "\n",
        "- 마지막에 정답코드에서는 sum 함수를 활용해 결과값을 간결하게 나타냈것 같다. 나는 반면 그래도 입력받은 n을 사용하고 싶어 for문을 활용해 결과값을 냈다."
      ],
      "metadata": {
        "id": "s8WU0BmBIBxN"
      }
    }
  ]
}